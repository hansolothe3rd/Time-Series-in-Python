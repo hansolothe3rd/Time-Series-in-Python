{
 "cells": [
  {
   "cell_type": "markdown",
   "id": "d8d19c39",
   "metadata": {},
   "source": [
    "# Intro to Time Series in Python\n"
   ]
  },
  {
   "cell_type": "markdown",
   "id": "2de9e26d",
   "metadata": {},
   "source": [
    "## Time Series Basics\n",
    "What is a time series? What is required to be considered time series data?\n",
    "A time series is any data in which the rows represent different points in time. It can be just a date, just a time, or a combination of both date and time.\n",
    "A time series may have rows that represent evenly spaced times or the rows may represent unevenly spaced times.\n",
    "If the times are evenly spaced, time series has a frequency. This means there is a fixed distance between each observation/row (e.g. daily, monthly, yearly, etc)\n",
    "## Representing Time Series in Python\n",
    "There are 2 primary ways we will represent date/time with python:\n",
    "Python's datetime module with datetime variables.\n",
    "https://docs.python.org/3/library/datetime.html\n",
    "Pandas's Custom Datetime Classes built on-top of Python's datetime objects.\n",
    "https://pandas.pydata.org/docs/user_guide/timeseries.html\n",
    "Pandas makes it easy to convert any column of date/time values into a \"datetime\" datatype, but uses its own classes which work similarly to standard python datetime variables.\n",
    "## datetime Objects (Basic Python)\n",
    "Python has a datetime module that has a date class (dates without hours/minutes/seconds), a time class (hours/minutes/seconds without a date) and a datetime class, which is a combination of both.\n",
    "We will use the datetime class as it is the most flexible.\n",
    "First, we must import the datetime library:"
   ]
  },
  {
   "cell_type": "code",
   "execution_count": 1,
   "id": "5abc9a96",
   "metadata": {},
   "outputs": [],
   "source": [
    "import datetime as dt"
   ]
  },
  {
   "cell_type": "markdown",
   "id": "e7013346",
   "metadata": {},
   "source": [
    "dt has .datetime methods. For example, we can obtain the current date and time with .now()\n",
    "\n"
   ]
  },
  {
   "cell_type": "code",
   "execution_count": 2,
   "id": "4f0a16bc",
   "metadata": {},
   "outputs": [
    {
     "data": {
      "text/plain": [
       "datetime.datetime(2023, 2, 28, 19, 47, 25, 519780)"
      ]
     },
     "execution_count": 2,
     "metadata": {},
     "output_type": "execute_result"
    }
   ],
   "source": [
    "## You can obtain the current date and time with .now()\n",
    "now = dt.datetime.now()\n",
    "now"
   ]
  },
  {
   "cell_type": "markdown",
   "id": "6ec025d6",
   "metadata": {},
   "source": [
    "**Note that your output will be different, and should be the current date and time.**\n",
    "\n",
    "Notice the formatting of the output: It contains year, month, day, hour, minute, second, microsecond.\n",
    "\n",
    "We can extract each of these individual pieces of the date and time as attributes:\n",
    "\n",
    "For Example:\n",
    ".to obtain just the year, use .year\n",
    "to obtain just the month, use .month\n",
    "etc."
   ]
  },
  {
   "cell_type": "code",
   "execution_count": 3,
   "id": "7b140a21",
   "metadata": {},
   "outputs": [
    {
     "data": {
      "text/plain": [
       "2023"
      ]
     },
     "execution_count": 3,
     "metadata": {},
     "output_type": "execute_result"
    }
   ],
   "source": [
    "## use datetime attribute to obtain just the year\n",
    "now.year"
   ]
  },
  {
   "cell_type": "markdown",
   "id": "8b04b84e",
   "metadata": {},
   "source": [
    "## Datetime Formatting\n",
    "Displayed\n",
    "\n",
    "When datetime variables are displayed, we see all of the individual pieces of the date as a list."
   ]
  },
  {
   "cell_type": "code",
   "execution_count": 4,
   "id": "dc4b3254",
   "metadata": {},
   "outputs": [
    {
     "data": {
      "text/plain": [
       "datetime.datetime(2023, 2, 28, 19, 47, 25, 519780)"
      ]
     },
     "metadata": {},
     "output_type": "display_data"
    }
   ],
   "source": [
    "## display using display function\n",
    "display(now)"
   ]
  },
  {
   "cell_type": "code",
   "execution_count": 5,
   "id": "65cc25c6",
   "metadata": {},
   "outputs": [
    {
     "data": {
      "text/plain": [
       "datetime.datetime(2023, 2, 28, 19, 47, 25, 519780)"
      ]
     },
     "execution_count": 5,
     "metadata": {},
     "output_type": "execute_result"
    }
   ],
   "source": [
    "# display by leaving as final line in cell\n",
    "now"
   ]
  },
  {
   "cell_type": "markdown",
   "id": "ff30f1ef",
   "metadata": {},
   "source": [
    "#### Printed\n",
    "\n",
    "When datetime variables are printed, they look very different:"
   ]
  },
  {
   "cell_type": "code",
   "execution_count": 6,
   "id": "a8f9f001",
   "metadata": {},
   "outputs": [
    {
     "name": "stdout",
     "output_type": "stream",
     "text": [
      "2023-02-28 19:47:25.519780\n"
     ]
    }
   ],
   "source": [
    "print(now)"
   ]
  },
  {
   "cell_type": "markdown",
   "id": "ea3d376c",
   "metadata": {},
   "source": [
    "As we can see, this looks a lot closer to how we would expect a date and time to look.\n",
    "Datetime objects have a specific date format.\n",
    "The default format for a datetime object is:\n",
    "{4 digit year}-{2 digit month}-{2 digit day} {hour in 24 hour time}:{minute}:{seconds}.{microseconds}\n",
    "We can represent this format using a format string: \"%Y-%m-%d %H:%M:%S.%f\" (which we will explain in the next section)\n",
    "Datetime objects have a method that controls which format is used for printed/text version of the date, called .strftime.\n",
    "### Datetime.strftime\n",
    "As you may imagine, there are many options for how you choose to format dates and time! Refer to Documentation for strftime for a table of format codes. These codes allow you to specify what type of date formatting should be used.\n",
    "\n",
    "Some examples of formatting options:\n",
    "For day of the month:\n",
    "One option is:\n",
    "\n",
    "%d: 0-padded 2-digit day of the month (e.g. 01, 12, 26, etc)\n",
    "Try it with now and see:\n",
    "\n"
   ]
  },
  {
   "cell_type": "code",
   "execution_count": 7,
   "id": "f39a600b",
   "metadata": {},
   "outputs": [
    {
     "data": {
      "text/plain": [
       "'28'"
      ]
     },
     "execution_count": 7,
     "metadata": {},
     "output_type": "execute_result"
    }
   ],
   "source": [
    "# just output the day with a leading 0 if needed\n",
    "format_a = \"%d\"\n",
    "now.strftime(format_a)"
   ]
  },
  {
   "cell_type": "markdown",
   "id": "028dee0a",
   "metadata": {},
   "source": [
    "Notice that since we only specified a format for day in format_a, our output only included the day of the month.\n",
    "\n",
    "#### For month:\n",
    "\n",
    "A few options are:\n",
    "\n",
    "%B: full month name (e.g. January, February)\n",
    "%b: abbreviated month name (e.g. Jan, Feb, etc)\n",
    "%m: 0-padded 2 digit month of the year (e.g. 01,06,11,12)\n",
    "\n",
    "Let's try adding the full month name before our day of the month"
   ]
  },
  {
   "cell_type": "code",
   "execution_count": 8,
   "id": "91aafa12",
   "metadata": {},
   "outputs": [
    {
     "data": {
      "text/plain": [
       "'February 28'"
      ]
     },
     "execution_count": 8,
     "metadata": {},
     "output_type": "execute_result"
    }
   ],
   "source": [
    "# Add full month name to day of month\n",
    "format_b = \"%B %d\"\n",
    "now.strftime(format_b)"
   ]
  },
  {
   "cell_type": "markdown",
   "id": "29459c66",
   "metadata": {},
   "source": [
    "Try some of the other options for month! Which do you think looks the best?\n",
    "\n",
    "\n",
    "\n",
    "#### For the day of the week:\n",
    "\n",
    "One options for day of the week:\n",
    "\n",
    "%a: Weekday as locale’s abbreviated name. (e.g. \"Sun, Mon\")\n",
    "Let's start with the day of the week, followed by a comma.\n",
    "\n",
    "Notice that any additional spacing or characters used when defining the format will be included in the final string."
   ]
  },
  {
   "cell_type": "code",
   "execution_count": 9,
   "id": "27cfdfdd",
   "metadata": {},
   "outputs": [
    {
     "data": {
      "text/plain": [
       "'Tue, February 28'"
      ]
     },
     "execution_count": 9,
     "metadata": {},
     "output_type": "execute_result"
    }
   ],
   "source": [
    "# Add day of the week to month and day\n",
    "format_c = \"%a, %B %d\"\n",
    "now.strftime(format_c)"
   ]
  },
  {
   "cell_type": "markdown",
   "id": "db83c73d",
   "metadata": {},
   "source": [
    "Use the documentation to see what other options for day of the week you might want to use!\n",
    "\n",
    "\n",
    "#### For the year:\n",
    "\n",
    "A few options include:\n",
    "\n",
    "%Y: 4-digit year (2000, 2022,etc)\n",
    "%y: 2-digit 0-padded year without century (eg. 00,22,etc)\n",
    "\n",
    "Let' say we just want to output the abbreviated month and the 2 digit yearFor the year:\n",
    "\n",
    "A few options include:\n",
    "\n",
    "%Y: 4-digit year (2000, 2022,etc)\n",
    "%y: 2-digit 0-padded year without century (eg. 00,22,etc)\n",
    "\n",
    "Let' say we just want to output the abbreviated month and the 2 digit year"
   ]
  },
  {
   "cell_type": "code",
   "execution_count": 10,
   "id": "3a9a046f",
   "metadata": {},
   "outputs": [
    {
     "data": {
      "text/plain": [
       "'Feb 23'"
      ]
     },
     "execution_count": 10,
     "metadata": {},
     "output_type": "execute_result"
    }
   ],
   "source": [
    "# include abbreviated month and 2 digit year\n",
    "format_d = \"%b %y\"\n",
    "now.strftime(format_d)"
   ]
  },
  {
   "cell_type": "markdown",
   "id": "b951b087",
   "metadata": {},
   "source": [
    "#### For Time:\n",
    "For quick/easy 24-hour military time with minutes and seconds:\n",
    "%T (e.g. 17:04:49)\n",
    "For the hour of the day:\n",
    "%H: 0-padded 24-hour time (e.g. 01, 12, 13,23)\n",
    "%I: 0-padded 12-hour time (e.g. 01, 12, 01, 11)\n",
    "%p: AM/PM\n",
    "For minutes:\n",
    "%M: 0-padded 2-digit minutes\n",
    "For seconds:\n",
    "%S\n",
    "The code below defines the default datetime format with all of the codes used."
   ]
  },
  {
   "cell_type": "code",
   "execution_count": 11,
   "id": "9dee853e",
   "metadata": {},
   "outputs": [
    {
     "name": "stdout",
     "output_type": "stream",
     "text": [
      "2023-02-28 19:47:25.519780\n"
     ]
    },
    {
     "data": {
      "text/plain": [
       "'2023-02-28 19:47:25.519780'"
      ]
     },
     "execution_count": 11,
     "metadata": {},
     "output_type": "execute_result"
    }
   ],
   "source": [
    "## the default datetime format\n",
    "default =\"%Y-%m-%d %H:%M:%S.%f\"\n",
    "print(now)\n",
    "now.strftime(default)"
   ]
  },
  {
   "cell_type": "markdown",
   "id": "9b4a52b8",
   "metadata": {},
   "source": [
    "Let's try some time formats. Include the date with slashed between and add the 12 hour time with AM or PM. Do not include milliseconds."
   ]
  },
  {
   "cell_type": "code",
   "execution_count": 12,
   "id": "d7dfb579",
   "metadata": {},
   "outputs": [
    {
     "data": {
      "text/plain": [
       "'02/28/2023 07:47:25 PM'"
      ]
     },
     "execution_count": 12,
     "metadata": {},
     "output_type": "execute_result"
    }
   ],
   "source": [
    "# Example US Formatted 12-hour date/time with AM/PM\n",
    "fmt = \"%m/%d/%Y %I:%M:%S %p\"\n",
    "now.strftime(fmt)"
   ]
  },
  {
   "cell_type": "markdown",
   "id": "947768b7",
   "metadata": {},
   "source": [
    "Let's try just the 24 hour time with no date:"
   ]
  },
  {
   "cell_type": "code",
   "execution_count": 13,
   "id": "4f3e38f7",
   "metadata": {},
   "outputs": [
    {
     "data": {
      "text/plain": [
       "'19:47:25'"
      ]
     },
     "execution_count": 13,
     "metadata": {},
     "output_type": "execute_result"
    }
   ],
   "source": [
    "## just the time (24 hour time)\n",
    "now.strftime(\"%T\")"
   ]
  },
  {
   "cell_type": "markdown",
   "id": "4e7dc961",
   "metadata": {},
   "source": [
    "## Summary\n",
    "\n",
    "This lesson introduced time series as any data that has a time, date, or time and date component. We also explored the datetime class in basic Python and demonstrated several options for changing the formatting with .strftime(). There are so many options for formatting! You won't remember the codes, but you should know where to find them and how to apply them to achieve what you are looking for in your datetime output.\n",
    "\n",
    "Key Terms\n",
    "time series\n",
    "\n",
    "frequency"
   ]
  },
  {
   "cell_type": "code",
   "execution_count": null,
   "id": "3530b1ea",
   "metadata": {},
   "outputs": [],
   "source": []
  }
 ],
 "metadata": {
  "kernelspec": {
   "display_name": "Python (dojo-env)",
   "language": "python",
   "name": "dojo-env"
  },
  "language_info": {
   "codemirror_mode": {
    "name": "ipython",
    "version": 3
   },
   "file_extension": ".py",
   "mimetype": "text/x-python",
   "name": "python",
   "nbconvert_exporter": "python",
   "pygments_lexer": "ipython3",
   "version": "3.9.15"
  },
  "toc": {
   "base_numbering": 1,
   "nav_menu": {},
   "number_sections": false,
   "sideBar": true,
   "skip_h1_title": false,
   "title_cell": "Table of Contents",
   "title_sidebar": "Contents",
   "toc_cell": false,
   "toc_position": {},
   "toc_section_display": true,
   "toc_window_display": false
  }
 },
 "nbformat": 4,
 "nbformat_minor": 5
}
