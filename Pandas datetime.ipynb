{
 "cells": [
  {
   "cell_type": "markdown",
   "id": "2961a7bb",
   "metadata": {},
   "source": [
    "# Pandas datetime\n"
   ]
  },
  {
   "cell_type": "markdown",
   "id": "00edac64",
   "metadata": {},
   "source": [
    "## Panda's Datetime Functionality\n",
    "So far, we have just been exploring datetime with the current date and time. Let's look at a data set that has a time series feature. We will be using the Daily Climate Time Series Dataset from Kaggle."
   ]
  },
  {
   "cell_type": "code",
   "execution_count": 1,
   "id": "044bc9a6",
   "metadata": {},
   "outputs": [
    {
     "name": "stdout",
     "output_type": "stream",
     "text": [
      "<class 'pandas.core.frame.DataFrame'>\n",
      "RangeIndex: 1462 entries, 0 to 1461\n",
      "Data columns (total 5 columns):\n",
      " #   Column        Non-Null Count  Dtype  \n",
      "---  ------        --------------  -----  \n",
      " 0   date          1462 non-null   object \n",
      " 1   meantemp      1462 non-null   float64\n",
      " 2   humidity      1462 non-null   float64\n",
      " 3   wind_speed    1462 non-null   float64\n",
      " 4   meanpressure  1462 non-null   float64\n",
      "dtypes: float64(4), object(1)\n",
      "memory usage: 57.2+ KB\n"
     ]
    },
    {
     "data": {
      "text/html": [
       "<div>\n",
       "<style scoped>\n",
       "    .dataframe tbody tr th:only-of-type {\n",
       "        vertical-align: middle;\n",
       "    }\n",
       "\n",
       "    .dataframe tbody tr th {\n",
       "        vertical-align: top;\n",
       "    }\n",
       "\n",
       "    .dataframe thead th {\n",
       "        text-align: right;\n",
       "    }\n",
       "</style>\n",
       "<table border=\"1\" class=\"dataframe\">\n",
       "  <thead>\n",
       "    <tr style=\"text-align: right;\">\n",
       "      <th></th>\n",
       "      <th>date</th>\n",
       "      <th>meantemp</th>\n",
       "      <th>humidity</th>\n",
       "      <th>wind_speed</th>\n",
       "      <th>meanpressure</th>\n",
       "    </tr>\n",
       "  </thead>\n",
       "  <tbody>\n",
       "    <tr>\n",
       "      <th>0</th>\n",
       "      <td>2013-01-01</td>\n",
       "      <td>10.000000</td>\n",
       "      <td>84.5</td>\n",
       "      <td>0.000000</td>\n",
       "      <td>1015.666667</td>\n",
       "    </tr>\n",
       "    <tr>\n",
       "      <th>1</th>\n",
       "      <td>2013-01-02</td>\n",
       "      <td>7.400000</td>\n",
       "      <td>92.0</td>\n",
       "      <td>2.980000</td>\n",
       "      <td>1017.800000</td>\n",
       "    </tr>\n",
       "    <tr>\n",
       "      <th>2</th>\n",
       "      <td>2013-01-03</td>\n",
       "      <td>7.166667</td>\n",
       "      <td>87.0</td>\n",
       "      <td>4.633333</td>\n",
       "      <td>1018.666667</td>\n",
       "    </tr>\n",
       "  </tbody>\n",
       "</table>\n",
       "</div>"
      ],
      "text/plain": [
       "         date   meantemp  humidity  wind_speed  meanpressure\n",
       "0  2013-01-01  10.000000      84.5    0.000000   1015.666667\n",
       "1  2013-01-02   7.400000      92.0    2.980000   1017.800000\n",
       "2  2013-01-03   7.166667      87.0    4.633333   1018.666667"
      ]
     },
     "execution_count": 1,
     "metadata": {},
     "output_type": "execute_result"
    }
   ],
   "source": [
    "import pandas as pd\n",
    "url=\"https://docs.google.com/spreadsheets/d/e/2PACX-1vQcpVvVioO23cndDwr1UmKhndrSq6ES6ZUKZ4fkBBqIAavd1_coVPO_yeOye-Ub-cAWlkX3psJvOU8o/pub?output=csv\"\n",
    "df = pd.read_csv(url)\n",
    "df.info()\n",
    "df.head(3)"
   ]
  },
  {
   "cell_type": "markdown",
   "id": "dc7bd097",
   "metadata": {},
   "source": [
    "In the above dataset, we can see that we have a date column. According to our .info(), this column is still a string (\"object\" dtype)\n",
    "From our .head(), we can see that the date column seems to formatted as\n",
    "4-digit year, a dash, 2 digit month, a dash, and 2 digit day.\n",
    "there is no time information, just the date.\n",
    "### pd.to_datetime\n",
    "\n",
    "Pandas has a very helpful function called to_datetime that can intelligently convert a column into the \"datetime\" data type.\n",
    "\n",
    "pd.to_datetime Documentation\n",
    "Let's convert our date column to datetime and then check our .info() and .head() again. Note, that we are keeping the original \"date\" column as a string, and adding an additional column."
   ]
  },
  {
   "cell_type": "code",
   "execution_count": 2,
   "id": "858200df",
   "metadata": {},
   "outputs": [
    {
     "name": "stdout",
     "output_type": "stream",
     "text": [
      "<class 'pandas.core.frame.DataFrame'>\n",
      "RangeIndex: 1462 entries, 0 to 1461\n",
      "Data columns (total 6 columns):\n",
      " #   Column        Non-Null Count  Dtype         \n",
      "---  ------        --------------  -----         \n",
      " 0   date          1462 non-null   object        \n",
      " 1   meantemp      1462 non-null   float64       \n",
      " 2   humidity      1462 non-null   float64       \n",
      " 3   wind_speed    1462 non-null   float64       \n",
      " 4   meanpressure  1462 non-null   float64       \n",
      " 5   datetime      1462 non-null   datetime64[ns]\n",
      "dtypes: datetime64[ns](1), float64(4), object(1)\n",
      "memory usage: 68.7+ KB\n"
     ]
    },
    {
     "data": {
      "text/html": [
       "<div>\n",
       "<style scoped>\n",
       "    .dataframe tbody tr th:only-of-type {\n",
       "        vertical-align: middle;\n",
       "    }\n",
       "\n",
       "    .dataframe tbody tr th {\n",
       "        vertical-align: top;\n",
       "    }\n",
       "\n",
       "    .dataframe thead th {\n",
       "        text-align: right;\n",
       "    }\n",
       "</style>\n",
       "<table border=\"1\" class=\"dataframe\">\n",
       "  <thead>\n",
       "    <tr style=\"text-align: right;\">\n",
       "      <th></th>\n",
       "      <th>date</th>\n",
       "      <th>meantemp</th>\n",
       "      <th>humidity</th>\n",
       "      <th>wind_speed</th>\n",
       "      <th>meanpressure</th>\n",
       "      <th>datetime</th>\n",
       "    </tr>\n",
       "  </thead>\n",
       "  <tbody>\n",
       "    <tr>\n",
       "      <th>0</th>\n",
       "      <td>2013-01-01</td>\n",
       "      <td>10.000000</td>\n",
       "      <td>84.5</td>\n",
       "      <td>0.000000</td>\n",
       "      <td>1015.666667</td>\n",
       "      <td>2013-01-01</td>\n",
       "    </tr>\n",
       "    <tr>\n",
       "      <th>1</th>\n",
       "      <td>2013-01-02</td>\n",
       "      <td>7.400000</td>\n",
       "      <td>92.0</td>\n",
       "      <td>2.980000</td>\n",
       "      <td>1017.800000</td>\n",
       "      <td>2013-01-02</td>\n",
       "    </tr>\n",
       "    <tr>\n",
       "      <th>2</th>\n",
       "      <td>2013-01-03</td>\n",
       "      <td>7.166667</td>\n",
       "      <td>87.0</td>\n",
       "      <td>4.633333</td>\n",
       "      <td>1018.666667</td>\n",
       "      <td>2013-01-03</td>\n",
       "    </tr>\n",
       "  </tbody>\n",
       "</table>\n",
       "</div>"
      ],
      "text/plain": [
       "         date   meantemp  humidity  wind_speed  meanpressure   datetime\n",
       "0  2013-01-01  10.000000      84.5    0.000000   1015.666667 2013-01-01\n",
       "1  2013-01-02   7.400000      92.0    2.980000   1017.800000 2013-01-02\n",
       "2  2013-01-03   7.166667      87.0    4.633333   1018.666667 2013-01-03"
      ]
     },
     "execution_count": 2,
     "metadata": {},
     "output_type": "execute_result"
    }
   ],
   "source": [
    "#Add a datetime column based on the string in the \"date\" column\n",
    "df['datetime'] = pd.to_datetime(df['date'])\n",
    "df.info()\n",
    "df.head(3)"
   ]
  },
  {
   "cell_type": "markdown",
   "id": "7d8e5bfb",
   "metadata": {},
   "source": [
    "We can see that our new \"datetime\" column's dtype is listed as \"datetime64[ns]\" and the original date is still a string.\n",
    "\n",
    "Note: [ns] is indicating nano-second precision.\n",
    "Notice, however, that the values stored in the date and datetime columns both look the same in the output!\n",
    "This is misleading, because when viewed as a dataframe or series, the output will always show the string version of the datetime even if it is actually a datetime object.\n",
    "Let's slice out 1 value from both columns with .loc and see how the values look when viewed alone."
   ]
  },
  {
   "cell_type": "code",
   "execution_count": 3,
   "id": "9c6c0069",
   "metadata": {},
   "outputs": [
    {
     "data": {
      "text/plain": [
       "'2013-01-01'"
      ]
     },
     "execution_count": 3,
     "metadata": {},
     "output_type": "execute_result"
    }
   ],
   "source": [
    "## preview first row from the date column (string)\n",
    "df.loc[0,'date']"
   ]
  },
  {
   "cell_type": "code",
   "execution_count": 4,
   "id": "2a31c2b4",
   "metadata": {},
   "outputs": [
    {
     "data": {
      "text/plain": [
       "Timestamp('2013-01-01 00:00:00')"
      ]
     },
     "execution_count": 4,
     "metadata": {},
     "output_type": "execute_result"
    }
   ],
   "source": [
    "## preview first row from the datetime column (datetime64[ns])\n",
    "df.loc[0,'datetime']"
   ]
  },
  {
   "cell_type": "markdown",
   "id": "eebd4322",
   "metadata": {},
   "source": [
    "When viewed single objects, NOW we can see the difference. The values stored in our new 'datetime' column are a special new type of object called a Timestamp.\n",
    "The Timestamp class is the simplest datetime variable type in Pandas and shares much of the same functionality as the basic Python datetime class.\n",
    "We can use .strftime with Pandas Timestamps just as we demonstrated with basic Python datetime class in the previous lesson. The formatting codes will also be the same.\n",
    "For example,\n",
    "\n",
    "If you wanted \"January 01, 2013\", you would use: \"%B %d, %Y\"."
   ]
  },
  {
   "cell_type": "code",
   "execution_count": 5,
   "id": "61c9e8f8",
   "metadata": {},
   "outputs": [
    {
     "data": {
      "text/plain": [
       "'January 01, 2013'"
      ]
     },
     "execution_count": 5,
     "metadata": {},
     "output_type": "execute_result"
    }
   ],
   "source": [
    "## demonstrate format code\n",
    "fmt = \"%B %d, %Y\"\n",
    "df.loc[0,'datetime'].strftime(fmt)"
   ]
  },
  {
   "cell_type": "markdown",
   "id": "afb6f6f8",
   "metadata": {},
   "source": [
    "## Using the .dt. accessor for a datetime column\n",
    "Just like we can slice out a string column and use .str. to access string methods, Pandas also has a .dt. for datetime columns.\n",
    "### .dt.strftime\n",
    "Here we will apply the desired format and create an entire new column:"
   ]
  },
  {
   "cell_type": "code",
   "execution_count": 6,
   "id": "cf3488ac",
   "metadata": {},
   "outputs": [
    {
     "data": {
      "text/plain": [
       "0        January 01, 2013\n",
       "1        January 02, 2013\n",
       "2        January 03, 2013\n",
       "3        January 04, 2013\n",
       "4        January 05, 2013\n",
       "              ...        \n",
       "1457    December 28, 2016\n",
       "1458    December 29, 2016\n",
       "1459    December 30, 2016\n",
       "1460    December 31, 2016\n",
       "1461     January 01, 2017\n",
       "Name: datetime_fmt, Length: 1462, dtype: object"
      ]
     },
     "execution_count": 6,
     "metadata": {},
     "output_type": "execute_result"
    }
   ],
   "source": [
    "df['datetime_fmt'] = df['datetime'].dt.strftime(fmt)\n",
    "df['datetime_fmt']"
   ]
  },
  {
   "cell_type": "markdown",
   "id": "81001179",
   "metadata": {},
   "source": [
    "Important Note: .dt.strftime returns a STRING not an actual datetime column. (notice in the output below that the \"datetime_fmt\" column is an \"object\" dtype)"
   ]
  },
  {
   "cell_type": "code",
   "execution_count": 7,
   "id": "bd1e325d",
   "metadata": {},
   "outputs": [
    {
     "name": "stdout",
     "output_type": "stream",
     "text": [
      "<class 'pandas.core.frame.DataFrame'>\n",
      "RangeIndex: 1462 entries, 0 to 1461\n",
      "Data columns (total 7 columns):\n",
      " #   Column        Non-Null Count  Dtype         \n",
      "---  ------        --------------  -----         \n",
      " 0   date          1462 non-null   object        \n",
      " 1   meantemp      1462 non-null   float64       \n",
      " 2   humidity      1462 non-null   float64       \n",
      " 3   wind_speed    1462 non-null   float64       \n",
      " 4   meanpressure  1462 non-null   float64       \n",
      " 5   datetime      1462 non-null   datetime64[ns]\n",
      " 6   datetime_fmt  1462 non-null   object        \n",
      "dtypes: datetime64[ns](1), float64(4), object(2)\n",
      "memory usage: 80.1+ KB\n"
     ]
    }
   ],
   "source": [
    "df.info()"
   ]
  },
  {
   "cell_type": "markdown",
   "id": "61555333",
   "metadata": {},
   "source": [
    "Using .dt.strftime is fine for when we simply want to display dates, but when we actually want to continue to use the feature as a datetime column, we must accept the default formatting.\n",
    "\n",
    "The good news is that pandas is very flexible in how WE format our dates when slicing a datetime column. This is demonstrated below.\n",
    "\n",
    "\n",
    "\n",
    "### .dt.year/month/day/hour/etc\n",
    "\n",
    "With the datetime object, we have a great deal of flexibility in accessing the specific information we want. For example, we could obtain just the year."
   ]
  },
  {
   "cell_type": "code",
   "execution_count": 8,
   "id": "54dc3292",
   "metadata": {},
   "outputs": [
    {
     "data": {
      "text/plain": [
       "0    2013\n",
       "1    2013\n",
       "2    2013\n",
       "3    2013\n",
       "4    2013\n",
       "Name: datetime, dtype: int64"
      ]
     },
     "execution_count": 8,
     "metadata": {},
     "output_type": "execute_result"
    }
   ],
   "source": [
    "df['datetime'].dt.year.head()"
   ]
  },
  {
   "cell_type": "markdown",
   "id": "c01cd826",
   "metadata": {},
   "source": [
    "To clarify, if we were to try this on our \"datetime_fmt\" column (which is just a string), it will not work! Try the following code to demonstrate the value of using the datetime object!"
   ]
  },
  {
   "cell_type": "code",
   "execution_count": 9,
   "id": "019bb9e0",
   "metadata": {},
   "outputs": [
    {
     "ename": "AttributeError",
     "evalue": "Can only use .dt accessor with datetimelike values",
     "output_type": "error",
     "traceback": [
      "\u001b[0;31m---------------------------------------------------------------------------\u001b[0m",
      "\u001b[0;31mAttributeError\u001b[0m                            Traceback (most recent call last)",
      "Cell \u001b[0;32mIn [9], line 2\u001b[0m\n\u001b[1;32m      1\u001b[0m \u001b[38;5;66;03m# Attempting to obtain year from a .dt.strftime object will NOT work!\u001b[39;00m\n\u001b[0;32m----> 2\u001b[0m \u001b[43mdf\u001b[49m\u001b[43m[\u001b[49m\u001b[38;5;124;43m'\u001b[39;49m\u001b[38;5;124;43mdatetime_fmt\u001b[39;49m\u001b[38;5;124;43m'\u001b[39;49m\u001b[43m]\u001b[49m\u001b[38;5;241;43m.\u001b[39;49m\u001b[43mdt\u001b[49m\u001b[38;5;241m.\u001b[39myear\u001b[38;5;241m.\u001b[39mhead()\n",
      "File \u001b[0;32m/opt/homebrew/Caskroom/miniforge/base/envs/dojo-env/lib/python3.9/site-packages/pandas/core/generic.py:5902\u001b[0m, in \u001b[0;36mNDFrame.__getattr__\u001b[0;34m(self, name)\u001b[0m\n\u001b[1;32m   5895\u001b[0m \u001b[38;5;28;01mif\u001b[39;00m (\n\u001b[1;32m   5896\u001b[0m     name \u001b[38;5;129;01mnot\u001b[39;00m \u001b[38;5;129;01min\u001b[39;00m \u001b[38;5;28mself\u001b[39m\u001b[38;5;241m.\u001b[39m_internal_names_set\n\u001b[1;32m   5897\u001b[0m     \u001b[38;5;129;01mand\u001b[39;00m name \u001b[38;5;129;01mnot\u001b[39;00m \u001b[38;5;129;01min\u001b[39;00m \u001b[38;5;28mself\u001b[39m\u001b[38;5;241m.\u001b[39m_metadata\n\u001b[1;32m   5898\u001b[0m     \u001b[38;5;129;01mand\u001b[39;00m name \u001b[38;5;129;01mnot\u001b[39;00m \u001b[38;5;129;01min\u001b[39;00m \u001b[38;5;28mself\u001b[39m\u001b[38;5;241m.\u001b[39m_accessors\n\u001b[1;32m   5899\u001b[0m     \u001b[38;5;129;01mand\u001b[39;00m \u001b[38;5;28mself\u001b[39m\u001b[38;5;241m.\u001b[39m_info_axis\u001b[38;5;241m.\u001b[39m_can_hold_identifiers_and_holds_name(name)\n\u001b[1;32m   5900\u001b[0m ):\n\u001b[1;32m   5901\u001b[0m     \u001b[38;5;28;01mreturn\u001b[39;00m \u001b[38;5;28mself\u001b[39m[name]\n\u001b[0;32m-> 5902\u001b[0m \u001b[38;5;28;01mreturn\u001b[39;00m \u001b[38;5;28;43mobject\u001b[39;49m\u001b[38;5;241;43m.\u001b[39;49m\u001b[38;5;21;43m__getattribute__\u001b[39;49m\u001b[43m(\u001b[49m\u001b[38;5;28;43mself\u001b[39;49m\u001b[43m,\u001b[49m\u001b[43m \u001b[49m\u001b[43mname\u001b[49m\u001b[43m)\u001b[49m\n",
      "File \u001b[0;32m/opt/homebrew/Caskroom/miniforge/base/envs/dojo-env/lib/python3.9/site-packages/pandas/core/accessor.py:182\u001b[0m, in \u001b[0;36mCachedAccessor.__get__\u001b[0;34m(self, obj, cls)\u001b[0m\n\u001b[1;32m    179\u001b[0m \u001b[38;5;28;01mif\u001b[39;00m obj \u001b[38;5;129;01mis\u001b[39;00m \u001b[38;5;28;01mNone\u001b[39;00m:\n\u001b[1;32m    180\u001b[0m     \u001b[38;5;66;03m# we're accessing the attribute of the class, i.e., Dataset.geo\u001b[39;00m\n\u001b[1;32m    181\u001b[0m     \u001b[38;5;28;01mreturn\u001b[39;00m \u001b[38;5;28mself\u001b[39m\u001b[38;5;241m.\u001b[39m_accessor\n\u001b[0;32m--> 182\u001b[0m accessor_obj \u001b[38;5;241m=\u001b[39m \u001b[38;5;28;43mself\u001b[39;49m\u001b[38;5;241;43m.\u001b[39;49m\u001b[43m_accessor\u001b[49m\u001b[43m(\u001b[49m\u001b[43mobj\u001b[49m\u001b[43m)\u001b[49m\n\u001b[1;32m    183\u001b[0m \u001b[38;5;66;03m# Replace the property with the accessor object. Inspired by:\u001b[39;00m\n\u001b[1;32m    184\u001b[0m \u001b[38;5;66;03m# https://www.pydanny.com/cached-property.html\u001b[39;00m\n\u001b[1;32m    185\u001b[0m \u001b[38;5;66;03m# We need to use object.__setattr__ because we overwrite __setattr__ on\u001b[39;00m\n\u001b[1;32m    186\u001b[0m \u001b[38;5;66;03m# NDFrame\u001b[39;00m\n\u001b[1;32m    187\u001b[0m \u001b[38;5;28mobject\u001b[39m\u001b[38;5;241m.\u001b[39m\u001b[38;5;21m__setattr__\u001b[39m(obj, \u001b[38;5;28mself\u001b[39m\u001b[38;5;241m.\u001b[39m_name, accessor_obj)\n",
      "File \u001b[0;32m/opt/homebrew/Caskroom/miniforge/base/envs/dojo-env/lib/python3.9/site-packages/pandas/core/indexes/accessors.py:512\u001b[0m, in \u001b[0;36mCombinedDatetimelikeProperties.__new__\u001b[0;34m(cls, data)\u001b[0m\n\u001b[1;32m    509\u001b[0m \u001b[38;5;28;01melif\u001b[39;00m is_period_dtype(data\u001b[38;5;241m.\u001b[39mdtype):\n\u001b[1;32m    510\u001b[0m     \u001b[38;5;28;01mreturn\u001b[39;00m PeriodProperties(data, orig)\n\u001b[0;32m--> 512\u001b[0m \u001b[38;5;28;01mraise\u001b[39;00m \u001b[38;5;167;01mAttributeError\u001b[39;00m(\u001b[38;5;124m\"\u001b[39m\u001b[38;5;124mCan only use .dt accessor with datetimelike values\u001b[39m\u001b[38;5;124m\"\u001b[39m)\n",
      "\u001b[0;31mAttributeError\u001b[0m: Can only use .dt accessor with datetimelike values"
     ]
    }
   ],
   "source": [
    "# Attempting to obtain year from a .dt.strftime object will NOT work!\n",
    "df['datetime_fmt'].dt.year.head()"
   ]
  },
  {
   "cell_type": "markdown",
   "id": "3034bcc7",
   "metadata": {},
   "source": [
    "Error!\n",
    "\n",
    "Some other examples:\n",
    "\n",
    "We could obtain just the month:"
   ]
  },
  {
   "cell_type": "code",
   "execution_count": 10,
   "id": "60e1e3db",
   "metadata": {},
   "outputs": [
    {
     "data": {
      "text/plain": [
       "0    1\n",
       "1    1\n",
       "2    1\n",
       "3    1\n",
       "4    1\n",
       "Name: datetime, dtype: int64"
      ]
     },
     "execution_count": 10,
     "metadata": {},
     "output_type": "execute_result"
    }
   ],
   "source": [
    "df['datetime'].dt.month.head()\n"
   ]
  },
  {
   "cell_type": "markdown",
   "id": "3b5e6e6d",
   "metadata": {},
   "source": [
    "In some cases, we might be more interested in the quarter:\n",
    "\n"
   ]
  },
  {
   "cell_type": "code",
   "execution_count": 11,
   "id": "e790cf22",
   "metadata": {},
   "outputs": [
    {
     "data": {
      "text/plain": [
       "0    1\n",
       "1    1\n",
       "2    1\n",
       "3    1\n",
       "4    1\n",
       "Name: datetime, dtype: int64"
      ]
     },
     "execution_count": 11,
     "metadata": {},
     "output_type": "execute_result"
    }
   ],
   "source": [
    "## fiscal year quarter\n",
    "df['datetime'].dt.quarter.head()"
   ]
  },
  {
   "cell_type": "markdown",
   "id": "195f871f",
   "metadata": {},
   "source": [
    "We could also just focus on the day of the week:\n",
    "\n"
   ]
  },
  {
   "cell_type": "code",
   "execution_count": 12,
   "id": "db7c7e7d",
   "metadata": {},
   "outputs": [
    {
     "data": {
      "text/plain": [
       "0    1\n",
       "1    2\n",
       "2    3\n",
       "3    4\n",
       "4    5\n",
       "Name: datetime, dtype: int64"
      ]
     },
     "execution_count": 12,
     "metadata": {},
     "output_type": "execute_result"
    }
   ],
   "source": [
    "## day of the week - numeric\n",
    "df['datetime'].dt.day_of_week.head()"
   ]
  },
  {
   "cell_type": "markdown",
   "id": "653c73d1",
   "metadata": {},
   "source": [
    "Or, if we prefer to have the name instead of the number:\n",
    "\n"
   ]
  },
  {
   "cell_type": "code",
   "execution_count": 13,
   "id": "5f35484f",
   "metadata": {},
   "outputs": [
    {
     "data": {
      "text/plain": [
       "0      Tuesday\n",
       "1    Wednesday\n",
       "2     Thursday\n",
       "3       Friday\n",
       "4     Saturday\n",
       "Name: datetime, dtype: object"
      ]
     },
     "execution_count": 13,
     "metadata": {},
     "output_type": "execute_result"
    }
   ],
   "source": [
    "## day of the week - String name\n",
    "df['datetime'].dt.day_name().head()"
   ]
  },
  {
   "cell_type": "markdown",
   "id": "ecf30734",
   "metadata": {},
   "source": [
    "## Setting a Datetime Index\n",
    "Before we can start slicing our data using the datetime object, we will need to make the datetime column the index for the DataFrame or Series."
   ]
  },
  {
   "cell_type": "code",
   "execution_count": 14,
   "id": "0318ee60",
   "metadata": {},
   "outputs": [
    {
     "data": {
      "text/html": [
       "<div>\n",
       "<style scoped>\n",
       "    .dataframe tbody tr th:only-of-type {\n",
       "        vertical-align: middle;\n",
       "    }\n",
       "\n",
       "    .dataframe tbody tr th {\n",
       "        vertical-align: top;\n",
       "    }\n",
       "\n",
       "    .dataframe thead th {\n",
       "        text-align: right;\n",
       "    }\n",
       "</style>\n",
       "<table border=\"1\" class=\"dataframe\">\n",
       "  <thead>\n",
       "    <tr style=\"text-align: right;\">\n",
       "      <th></th>\n",
       "      <th>date</th>\n",
       "      <th>meantemp</th>\n",
       "      <th>humidity</th>\n",
       "      <th>wind_speed</th>\n",
       "      <th>meanpressure</th>\n",
       "      <th>datetime_fmt</th>\n",
       "    </tr>\n",
       "    <tr>\n",
       "      <th>datetime</th>\n",
       "      <th></th>\n",
       "      <th></th>\n",
       "      <th></th>\n",
       "      <th></th>\n",
       "      <th></th>\n",
       "      <th></th>\n",
       "    </tr>\n",
       "  </thead>\n",
       "  <tbody>\n",
       "    <tr>\n",
       "      <th>2013-01-01</th>\n",
       "      <td>2013-01-01</td>\n",
       "      <td>10.000000</td>\n",
       "      <td>84.500000</td>\n",
       "      <td>0.000000</td>\n",
       "      <td>1015.666667</td>\n",
       "      <td>January 01, 2013</td>\n",
       "    </tr>\n",
       "    <tr>\n",
       "      <th>2013-01-02</th>\n",
       "      <td>2013-01-02</td>\n",
       "      <td>7.400000</td>\n",
       "      <td>92.000000</td>\n",
       "      <td>2.980000</td>\n",
       "      <td>1017.800000</td>\n",
       "      <td>January 02, 2013</td>\n",
       "    </tr>\n",
       "    <tr>\n",
       "      <th>2013-01-03</th>\n",
       "      <td>2013-01-03</td>\n",
       "      <td>7.166667</td>\n",
       "      <td>87.000000</td>\n",
       "      <td>4.633333</td>\n",
       "      <td>1018.666667</td>\n",
       "      <td>January 03, 2013</td>\n",
       "    </tr>\n",
       "    <tr>\n",
       "      <th>2013-01-04</th>\n",
       "      <td>2013-01-04</td>\n",
       "      <td>8.666667</td>\n",
       "      <td>71.333333</td>\n",
       "      <td>1.233333</td>\n",
       "      <td>1017.166667</td>\n",
       "      <td>January 04, 2013</td>\n",
       "    </tr>\n",
       "    <tr>\n",
       "      <th>2013-01-05</th>\n",
       "      <td>2013-01-05</td>\n",
       "      <td>6.000000</td>\n",
       "      <td>86.833333</td>\n",
       "      <td>3.700000</td>\n",
       "      <td>1016.500000</td>\n",
       "      <td>January 05, 2013</td>\n",
       "    </tr>\n",
       "    <tr>\n",
       "      <th>...</th>\n",
       "      <td>...</td>\n",
       "      <td>...</td>\n",
       "      <td>...</td>\n",
       "      <td>...</td>\n",
       "      <td>...</td>\n",
       "      <td>...</td>\n",
       "    </tr>\n",
       "    <tr>\n",
       "      <th>2016-12-28</th>\n",
       "      <td>2016-12-28</td>\n",
       "      <td>17.217391</td>\n",
       "      <td>68.043478</td>\n",
       "      <td>3.547826</td>\n",
       "      <td>1015.565217</td>\n",
       "      <td>December 28, 2016</td>\n",
       "    </tr>\n",
       "    <tr>\n",
       "      <th>2016-12-29</th>\n",
       "      <td>2016-12-29</td>\n",
       "      <td>15.238095</td>\n",
       "      <td>87.857143</td>\n",
       "      <td>6.000000</td>\n",
       "      <td>1016.904762</td>\n",
       "      <td>December 29, 2016</td>\n",
       "    </tr>\n",
       "    <tr>\n",
       "      <th>2016-12-30</th>\n",
       "      <td>2016-12-30</td>\n",
       "      <td>14.095238</td>\n",
       "      <td>89.666667</td>\n",
       "      <td>6.266667</td>\n",
       "      <td>1017.904762</td>\n",
       "      <td>December 30, 2016</td>\n",
       "    </tr>\n",
       "    <tr>\n",
       "      <th>2016-12-31</th>\n",
       "      <td>2016-12-31</td>\n",
       "      <td>15.052632</td>\n",
       "      <td>87.000000</td>\n",
       "      <td>7.325000</td>\n",
       "      <td>1016.100000</td>\n",
       "      <td>December 31, 2016</td>\n",
       "    </tr>\n",
       "    <tr>\n",
       "      <th>2017-01-01</th>\n",
       "      <td>2017-01-01</td>\n",
       "      <td>10.000000</td>\n",
       "      <td>100.000000</td>\n",
       "      <td>0.000000</td>\n",
       "      <td>1016.000000</td>\n",
       "      <td>January 01, 2017</td>\n",
       "    </tr>\n",
       "  </tbody>\n",
       "</table>\n",
       "<p>1462 rows × 6 columns</p>\n",
       "</div>"
      ],
      "text/plain": [
       "                  date   meantemp    humidity  wind_speed  meanpressure  \\\n",
       "datetime                                                                  \n",
       "2013-01-01  2013-01-01  10.000000   84.500000    0.000000   1015.666667   \n",
       "2013-01-02  2013-01-02   7.400000   92.000000    2.980000   1017.800000   \n",
       "2013-01-03  2013-01-03   7.166667   87.000000    4.633333   1018.666667   \n",
       "2013-01-04  2013-01-04   8.666667   71.333333    1.233333   1017.166667   \n",
       "2013-01-05  2013-01-05   6.000000   86.833333    3.700000   1016.500000   \n",
       "...                ...        ...         ...         ...           ...   \n",
       "2016-12-28  2016-12-28  17.217391   68.043478    3.547826   1015.565217   \n",
       "2016-12-29  2016-12-29  15.238095   87.857143    6.000000   1016.904762   \n",
       "2016-12-30  2016-12-30  14.095238   89.666667    6.266667   1017.904762   \n",
       "2016-12-31  2016-12-31  15.052632   87.000000    7.325000   1016.100000   \n",
       "2017-01-01  2017-01-01  10.000000  100.000000    0.000000   1016.000000   \n",
       "\n",
       "                 datetime_fmt  \n",
       "datetime                       \n",
       "2013-01-01   January 01, 2013  \n",
       "2013-01-02   January 02, 2013  \n",
       "2013-01-03   January 03, 2013  \n",
       "2013-01-04   January 04, 2013  \n",
       "2013-01-05   January 05, 2013  \n",
       "...                       ...  \n",
       "2016-12-28  December 28, 2016  \n",
       "2016-12-29  December 29, 2016  \n",
       "2016-12-30  December 30, 2016  \n",
       "2016-12-31  December 31, 2016  \n",
       "2017-01-01   January 01, 2017  \n",
       "\n",
       "[1462 rows x 6 columns]"
      ]
     },
     "execution_count": 14,
     "metadata": {},
     "output_type": "execute_result"
    }
   ],
   "source": [
    "df = df.set_index('datetime')\n",
    "df"
   ]
  },
  {
   "cell_type": "markdown",
   "id": "4d3e698b",
   "metadata": {},
   "source": [
    "If we check the DataFrame's .index, we can confirm that it is indeed still datetime dtype.\n",
    "\n"
   ]
  },
  {
   "cell_type": "code",
   "execution_count": 15,
   "id": "3398786b",
   "metadata": {},
   "outputs": [
    {
     "data": {
      "text/plain": [
       "DatetimeIndex(['2013-01-01', '2013-01-02', '2013-01-03', '2013-01-04',\n",
       "               '2013-01-05', '2013-01-06', '2013-01-07', '2013-01-08',\n",
       "               '2013-01-09', '2013-01-10',\n",
       "               ...\n",
       "               '2016-12-23', '2016-12-24', '2016-12-25', '2016-12-26',\n",
       "               '2016-12-27', '2016-12-28', '2016-12-29', '2016-12-30',\n",
       "               '2016-12-31', '2017-01-01'],\n",
       "              dtype='datetime64[ns]', name='datetime', length=1462, freq=None)"
      ]
     },
     "execution_count": 15,
     "metadata": {},
     "output_type": "execute_result"
    }
   ],
   "source": [
    "df.index"
   ]
  },
  {
   "cell_type": "markdown",
   "id": "aa855950",
   "metadata": {},
   "source": [
    "## Slicing a Time Series with pandas\n",
    "Pandas is incredibly flexible/generous in processing dates when we use .loc.\n",
    "For example, if we wanted every row from the year 2013, we can just use .loc and a string version of the year"
   ]
  },
  {
   "cell_type": "code",
   "execution_count": 17,
   "id": "adb116d3",
   "metadata": {},
   "outputs": [
    {
     "data": {
      "text/html": [
       "<div>\n",
       "<style scoped>\n",
       "    .dataframe tbody tr th:only-of-type {\n",
       "        vertical-align: middle;\n",
       "    }\n",
       "\n",
       "    .dataframe tbody tr th {\n",
       "        vertical-align: top;\n",
       "    }\n",
       "\n",
       "    .dataframe thead th {\n",
       "        text-align: right;\n",
       "    }\n",
       "</style>\n",
       "<table border=\"1\" class=\"dataframe\">\n",
       "  <thead>\n",
       "    <tr style=\"text-align: right;\">\n",
       "      <th></th>\n",
       "      <th>date</th>\n",
       "      <th>meantemp</th>\n",
       "      <th>humidity</th>\n",
       "      <th>wind_speed</th>\n",
       "      <th>meanpressure</th>\n",
       "      <th>datetime_fmt</th>\n",
       "    </tr>\n",
       "    <tr>\n",
       "      <th>datetime</th>\n",
       "      <th></th>\n",
       "      <th></th>\n",
       "      <th></th>\n",
       "      <th></th>\n",
       "      <th></th>\n",
       "      <th></th>\n",
       "    </tr>\n",
       "  </thead>\n",
       "  <tbody>\n",
       "    <tr>\n",
       "      <th>2013-01-01</th>\n",
       "      <td>2013-01-01</td>\n",
       "      <td>10.000000</td>\n",
       "      <td>84.500000</td>\n",
       "      <td>0.000000</td>\n",
       "      <td>1015.666667</td>\n",
       "      <td>January 01, 2013</td>\n",
       "    </tr>\n",
       "    <tr>\n",
       "      <th>2013-01-02</th>\n",
       "      <td>2013-01-02</td>\n",
       "      <td>7.400000</td>\n",
       "      <td>92.000000</td>\n",
       "      <td>2.980000</td>\n",
       "      <td>1017.800000</td>\n",
       "      <td>January 02, 2013</td>\n",
       "    </tr>\n",
       "    <tr>\n",
       "      <th>2013-01-03</th>\n",
       "      <td>2013-01-03</td>\n",
       "      <td>7.166667</td>\n",
       "      <td>87.000000</td>\n",
       "      <td>4.633333</td>\n",
       "      <td>1018.666667</td>\n",
       "      <td>January 03, 2013</td>\n",
       "    </tr>\n",
       "    <tr>\n",
       "      <th>2013-01-04</th>\n",
       "      <td>2013-01-04</td>\n",
       "      <td>8.666667</td>\n",
       "      <td>71.333333</td>\n",
       "      <td>1.233333</td>\n",
       "      <td>1017.166667</td>\n",
       "      <td>January 04, 2013</td>\n",
       "    </tr>\n",
       "    <tr>\n",
       "      <th>2013-01-05</th>\n",
       "      <td>2013-01-05</td>\n",
       "      <td>6.000000</td>\n",
       "      <td>86.833333</td>\n",
       "      <td>3.700000</td>\n",
       "      <td>1016.500000</td>\n",
       "      <td>January 05, 2013</td>\n",
       "    </tr>\n",
       "    <tr>\n",
       "      <th>...</th>\n",
       "      <td>...</td>\n",
       "      <td>...</td>\n",
       "      <td>...</td>\n",
       "      <td>...</td>\n",
       "      <td>...</td>\n",
       "      <td>...</td>\n",
       "    </tr>\n",
       "    <tr>\n",
       "      <th>2013-12-27</th>\n",
       "      <td>2013-12-27</td>\n",
       "      <td>11.875000</td>\n",
       "      <td>79.875000</td>\n",
       "      <td>1.162500</td>\n",
       "      <td>1018.625000</td>\n",
       "      <td>December 27, 2013</td>\n",
       "    </tr>\n",
       "    <tr>\n",
       "      <th>2013-12-28</th>\n",
       "      <td>2013-12-28</td>\n",
       "      <td>10.875000</td>\n",
       "      <td>70.000000</td>\n",
       "      <td>5.325000</td>\n",
       "      <td>1019.250000</td>\n",
       "      <td>December 28, 2013</td>\n",
       "    </tr>\n",
       "    <tr>\n",
       "      <th>2013-12-29</th>\n",
       "      <td>2013-12-29</td>\n",
       "      <td>10.571429</td>\n",
       "      <td>69.428571</td>\n",
       "      <td>5.325000</td>\n",
       "      <td>1018.500000</td>\n",
       "      <td>December 29, 2013</td>\n",
       "    </tr>\n",
       "    <tr>\n",
       "      <th>2013-12-30</th>\n",
       "      <td>2013-12-30</td>\n",
       "      <td>12.375000</td>\n",
       "      <td>79.500000</td>\n",
       "      <td>6.475000</td>\n",
       "      <td>1018.125000</td>\n",
       "      <td>December 30, 2013</td>\n",
       "    </tr>\n",
       "    <tr>\n",
       "      <th>2013-12-31</th>\n",
       "      <td>2013-12-31</td>\n",
       "      <td>14.500000</td>\n",
       "      <td>89.375000</td>\n",
       "      <td>4.862500</td>\n",
       "      <td>1020.500000</td>\n",
       "      <td>December 31, 2013</td>\n",
       "    </tr>\n",
       "  </tbody>\n",
       "</table>\n",
       "<p>365 rows × 6 columns</p>\n",
       "</div>"
      ],
      "text/plain": [
       "                  date   meantemp   humidity  wind_speed  meanpressure  \\\n",
       "datetime                                                                 \n",
       "2013-01-01  2013-01-01  10.000000  84.500000    0.000000   1015.666667   \n",
       "2013-01-02  2013-01-02   7.400000  92.000000    2.980000   1017.800000   \n",
       "2013-01-03  2013-01-03   7.166667  87.000000    4.633333   1018.666667   \n",
       "2013-01-04  2013-01-04   8.666667  71.333333    1.233333   1017.166667   \n",
       "2013-01-05  2013-01-05   6.000000  86.833333    3.700000   1016.500000   \n",
       "...                ...        ...        ...         ...           ...   \n",
       "2013-12-27  2013-12-27  11.875000  79.875000    1.162500   1018.625000   \n",
       "2013-12-28  2013-12-28  10.875000  70.000000    5.325000   1019.250000   \n",
       "2013-12-29  2013-12-29  10.571429  69.428571    5.325000   1018.500000   \n",
       "2013-12-30  2013-12-30  12.375000  79.500000    6.475000   1018.125000   \n",
       "2013-12-31  2013-12-31  14.500000  89.375000    4.862500   1020.500000   \n",
       "\n",
       "                 datetime_fmt  \n",
       "datetime                       \n",
       "2013-01-01   January 01, 2013  \n",
       "2013-01-02   January 02, 2013  \n",
       "2013-01-03   January 03, 2013  \n",
       "2013-01-04   January 04, 2013  \n",
       "2013-01-05   January 05, 2013  \n",
       "...                       ...  \n",
       "2013-12-27  December 27, 2013  \n",
       "2013-12-28  December 28, 2013  \n",
       "2013-12-29  December 29, 2013  \n",
       "2013-12-30  December 30, 2013  \n",
       "2013-12-31  December 31, 2013  \n",
       "\n",
       "[365 rows x 6 columns]"
      ]
     },
     "execution_count": 17,
     "metadata": {},
     "output_type": "execute_result"
    }
   ],
   "source": [
    "df.loc['2013']"
   ]
  },
  {
   "cell_type": "markdown",
   "id": "1537791f",
   "metadata": {},
   "source": [
    "We can also slice a range of dates, for example, all of 2013 and 2014:\n"
   ]
  },
  {
   "cell_type": "code",
   "execution_count": 18,
   "id": "46b3d7b3",
   "metadata": {},
   "outputs": [
    {
     "data": {
      "text/html": [
       "<div>\n",
       "<style scoped>\n",
       "    .dataframe tbody tr th:only-of-type {\n",
       "        vertical-align: middle;\n",
       "    }\n",
       "\n",
       "    .dataframe tbody tr th {\n",
       "        vertical-align: top;\n",
       "    }\n",
       "\n",
       "    .dataframe thead th {\n",
       "        text-align: right;\n",
       "    }\n",
       "</style>\n",
       "<table border=\"1\" class=\"dataframe\">\n",
       "  <thead>\n",
       "    <tr style=\"text-align: right;\">\n",
       "      <th></th>\n",
       "      <th>date</th>\n",
       "      <th>meantemp</th>\n",
       "      <th>humidity</th>\n",
       "      <th>wind_speed</th>\n",
       "      <th>meanpressure</th>\n",
       "      <th>datetime_fmt</th>\n",
       "    </tr>\n",
       "    <tr>\n",
       "      <th>datetime</th>\n",
       "      <th></th>\n",
       "      <th></th>\n",
       "      <th></th>\n",
       "      <th></th>\n",
       "      <th></th>\n",
       "      <th></th>\n",
       "    </tr>\n",
       "  </thead>\n",
       "  <tbody>\n",
       "    <tr>\n",
       "      <th>2013-01-01</th>\n",
       "      <td>2013-01-01</td>\n",
       "      <td>10.000000</td>\n",
       "      <td>84.500000</td>\n",
       "      <td>0.000000</td>\n",
       "      <td>1015.666667</td>\n",
       "      <td>January 01, 2013</td>\n",
       "    </tr>\n",
       "    <tr>\n",
       "      <th>2013-01-02</th>\n",
       "      <td>2013-01-02</td>\n",
       "      <td>7.400000</td>\n",
       "      <td>92.000000</td>\n",
       "      <td>2.980000</td>\n",
       "      <td>1017.800000</td>\n",
       "      <td>January 02, 2013</td>\n",
       "    </tr>\n",
       "    <tr>\n",
       "      <th>2013-01-03</th>\n",
       "      <td>2013-01-03</td>\n",
       "      <td>7.166667</td>\n",
       "      <td>87.000000</td>\n",
       "      <td>4.633333</td>\n",
       "      <td>1018.666667</td>\n",
       "      <td>January 03, 2013</td>\n",
       "    </tr>\n",
       "    <tr>\n",
       "      <th>2013-01-04</th>\n",
       "      <td>2013-01-04</td>\n",
       "      <td>8.666667</td>\n",
       "      <td>71.333333</td>\n",
       "      <td>1.233333</td>\n",
       "      <td>1017.166667</td>\n",
       "      <td>January 04, 2013</td>\n",
       "    </tr>\n",
       "    <tr>\n",
       "      <th>2013-01-05</th>\n",
       "      <td>2013-01-05</td>\n",
       "      <td>6.000000</td>\n",
       "      <td>86.833333</td>\n",
       "      <td>3.700000</td>\n",
       "      <td>1016.500000</td>\n",
       "      <td>January 05, 2013</td>\n",
       "    </tr>\n",
       "    <tr>\n",
       "      <th>...</th>\n",
       "      <td>...</td>\n",
       "      <td>...</td>\n",
       "      <td>...</td>\n",
       "      <td>...</td>\n",
       "      <td>...</td>\n",
       "      <td>...</td>\n",
       "    </tr>\n",
       "    <tr>\n",
       "      <th>2014-12-27</th>\n",
       "      <td>2014-12-27</td>\n",
       "      <td>10.375000</td>\n",
       "      <td>69.000000</td>\n",
       "      <td>2.775000</td>\n",
       "      <td>1018.625000</td>\n",
       "      <td>December 27, 2014</td>\n",
       "    </tr>\n",
       "    <tr>\n",
       "      <th>2014-12-28</th>\n",
       "      <td>2014-12-28</td>\n",
       "      <td>9.000000</td>\n",
       "      <td>86.000000</td>\n",
       "      <td>0.700000</td>\n",
       "      <td>1019.750000</td>\n",
       "      <td>December 28, 2014</td>\n",
       "    </tr>\n",
       "    <tr>\n",
       "      <th>2014-12-29</th>\n",
       "      <td>2014-12-29</td>\n",
       "      <td>11.125000</td>\n",
       "      <td>72.625000</td>\n",
       "      <td>1.387500</td>\n",
       "      <td>1017.250000</td>\n",
       "      <td>December 29, 2014</td>\n",
       "    </tr>\n",
       "    <tr>\n",
       "      <th>2014-12-30</th>\n",
       "      <td>2014-12-30</td>\n",
       "      <td>11.625000</td>\n",
       "      <td>70.625000</td>\n",
       "      <td>2.550000</td>\n",
       "      <td>1014.625000</td>\n",
       "      <td>December 30, 2014</td>\n",
       "    </tr>\n",
       "    <tr>\n",
       "      <th>2014-12-31</th>\n",
       "      <td>2014-12-31</td>\n",
       "      <td>12.375000</td>\n",
       "      <td>67.125000</td>\n",
       "      <td>2.787500</td>\n",
       "      <td>1016.875000</td>\n",
       "      <td>December 31, 2014</td>\n",
       "    </tr>\n",
       "  </tbody>\n",
       "</table>\n",
       "<p>730 rows × 6 columns</p>\n",
       "</div>"
      ],
      "text/plain": [
       "                  date   meantemp   humidity  wind_speed  meanpressure  \\\n",
       "datetime                                                                 \n",
       "2013-01-01  2013-01-01  10.000000  84.500000    0.000000   1015.666667   \n",
       "2013-01-02  2013-01-02   7.400000  92.000000    2.980000   1017.800000   \n",
       "2013-01-03  2013-01-03   7.166667  87.000000    4.633333   1018.666667   \n",
       "2013-01-04  2013-01-04   8.666667  71.333333    1.233333   1017.166667   \n",
       "2013-01-05  2013-01-05   6.000000  86.833333    3.700000   1016.500000   \n",
       "...                ...        ...        ...         ...           ...   \n",
       "2014-12-27  2014-12-27  10.375000  69.000000    2.775000   1018.625000   \n",
       "2014-12-28  2014-12-28   9.000000  86.000000    0.700000   1019.750000   \n",
       "2014-12-29  2014-12-29  11.125000  72.625000    1.387500   1017.250000   \n",
       "2014-12-30  2014-12-30  11.625000  70.625000    2.550000   1014.625000   \n",
       "2014-12-31  2014-12-31  12.375000  67.125000    2.787500   1016.875000   \n",
       "\n",
       "                 datetime_fmt  \n",
       "datetime                       \n",
       "2013-01-01   January 01, 2013  \n",
       "2013-01-02   January 02, 2013  \n",
       "2013-01-03   January 03, 2013  \n",
       "2013-01-04   January 04, 2013  \n",
       "2013-01-05   January 05, 2013  \n",
       "...                       ...  \n",
       "2014-12-27  December 27, 2014  \n",
       "2014-12-28  December 28, 2014  \n",
       "2014-12-29  December 29, 2014  \n",
       "2014-12-30  December 30, 2014  \n",
       "2014-12-31  December 31, 2014  \n",
       "\n",
       "[730 rows x 6 columns]"
      ]
     },
     "execution_count": 18,
     "metadata": {},
     "output_type": "execute_result"
    }
   ],
   "source": [
    "df.loc['2013':'2014']"
   ]
  },
  {
   "cell_type": "markdown",
   "id": "6699080f",
   "metadata": {},
   "source": [
    "It is also flexible with the frequency/specificity of the dates that we use.\n",
    "For example, if we wanted all of 2013 and everything up through June of 2014, we could use:"
   ]
  },
  {
   "cell_type": "code",
   "execution_count": 19,
   "id": "397ca6b9",
   "metadata": {},
   "outputs": [
    {
     "data": {
      "text/html": [
       "<div>\n",
       "<style scoped>\n",
       "    .dataframe tbody tr th:only-of-type {\n",
       "        vertical-align: middle;\n",
       "    }\n",
       "\n",
       "    .dataframe tbody tr th {\n",
       "        vertical-align: top;\n",
       "    }\n",
       "\n",
       "    .dataframe thead th {\n",
       "        text-align: right;\n",
       "    }\n",
       "</style>\n",
       "<table border=\"1\" class=\"dataframe\">\n",
       "  <thead>\n",
       "    <tr style=\"text-align: right;\">\n",
       "      <th></th>\n",
       "      <th>date</th>\n",
       "      <th>meantemp</th>\n",
       "      <th>humidity</th>\n",
       "      <th>wind_speed</th>\n",
       "      <th>meanpressure</th>\n",
       "      <th>datetime_fmt</th>\n",
       "    </tr>\n",
       "    <tr>\n",
       "      <th>datetime</th>\n",
       "      <th></th>\n",
       "      <th></th>\n",
       "      <th></th>\n",
       "      <th></th>\n",
       "      <th></th>\n",
       "      <th></th>\n",
       "    </tr>\n",
       "  </thead>\n",
       "  <tbody>\n",
       "    <tr>\n",
       "      <th>2013-01-01</th>\n",
       "      <td>2013-01-01</td>\n",
       "      <td>10.000000</td>\n",
       "      <td>84.500000</td>\n",
       "      <td>0.000000</td>\n",
       "      <td>1015.666667</td>\n",
       "      <td>January 01, 2013</td>\n",
       "    </tr>\n",
       "    <tr>\n",
       "      <th>2013-01-02</th>\n",
       "      <td>2013-01-02</td>\n",
       "      <td>7.400000</td>\n",
       "      <td>92.000000</td>\n",
       "      <td>2.980000</td>\n",
       "      <td>1017.800000</td>\n",
       "      <td>January 02, 2013</td>\n",
       "    </tr>\n",
       "    <tr>\n",
       "      <th>2013-01-03</th>\n",
       "      <td>2013-01-03</td>\n",
       "      <td>7.166667</td>\n",
       "      <td>87.000000</td>\n",
       "      <td>4.633333</td>\n",
       "      <td>1018.666667</td>\n",
       "      <td>January 03, 2013</td>\n",
       "    </tr>\n",
       "    <tr>\n",
       "      <th>2013-01-04</th>\n",
       "      <td>2013-01-04</td>\n",
       "      <td>8.666667</td>\n",
       "      <td>71.333333</td>\n",
       "      <td>1.233333</td>\n",
       "      <td>1017.166667</td>\n",
       "      <td>January 04, 2013</td>\n",
       "    </tr>\n",
       "    <tr>\n",
       "      <th>2013-01-05</th>\n",
       "      <td>2013-01-05</td>\n",
       "      <td>6.000000</td>\n",
       "      <td>86.833333</td>\n",
       "      <td>3.700000</td>\n",
       "      <td>1016.500000</td>\n",
       "      <td>January 05, 2013</td>\n",
       "    </tr>\n",
       "    <tr>\n",
       "      <th>...</th>\n",
       "      <td>...</td>\n",
       "      <td>...</td>\n",
       "      <td>...</td>\n",
       "      <td>...</td>\n",
       "      <td>...</td>\n",
       "      <td>...</td>\n",
       "    </tr>\n",
       "    <tr>\n",
       "      <th>2014-06-26</th>\n",
       "      <td>2014-06-26</td>\n",
       "      <td>32.500000</td>\n",
       "      <td>60.375000</td>\n",
       "      <td>3.237500</td>\n",
       "      <td>1001.000000</td>\n",
       "      <td>June 26, 2014</td>\n",
       "    </tr>\n",
       "    <tr>\n",
       "      <th>2014-06-27</th>\n",
       "      <td>2014-06-27</td>\n",
       "      <td>34.750000</td>\n",
       "      <td>48.500000</td>\n",
       "      <td>9.487500</td>\n",
       "      <td>1001.625000</td>\n",
       "      <td>June 27, 2014</td>\n",
       "    </tr>\n",
       "    <tr>\n",
       "      <th>2014-06-28</th>\n",
       "      <td>2014-06-28</td>\n",
       "      <td>34.875000</td>\n",
       "      <td>49.000000</td>\n",
       "      <td>5.787500</td>\n",
       "      <td>999.375000</td>\n",
       "      <td>June 28, 2014</td>\n",
       "    </tr>\n",
       "    <tr>\n",
       "      <th>2014-06-29</th>\n",
       "      <td>2014-06-29</td>\n",
       "      <td>33.000000</td>\n",
       "      <td>57.750000</td>\n",
       "      <td>9.712500</td>\n",
       "      <td>997.750000</td>\n",
       "      <td>June 29, 2014</td>\n",
       "    </tr>\n",
       "    <tr>\n",
       "      <th>2014-06-30</th>\n",
       "      <td>2014-06-30</td>\n",
       "      <td>32.000000</td>\n",
       "      <td>67.750000</td>\n",
       "      <td>3.250000</td>\n",
       "      <td>997.500000</td>\n",
       "      <td>June 30, 2014</td>\n",
       "    </tr>\n",
       "  </tbody>\n",
       "</table>\n",
       "<p>546 rows × 6 columns</p>\n",
       "</div>"
      ],
      "text/plain": [
       "                  date   meantemp   humidity  wind_speed  meanpressure  \\\n",
       "datetime                                                                 \n",
       "2013-01-01  2013-01-01  10.000000  84.500000    0.000000   1015.666667   \n",
       "2013-01-02  2013-01-02   7.400000  92.000000    2.980000   1017.800000   \n",
       "2013-01-03  2013-01-03   7.166667  87.000000    4.633333   1018.666667   \n",
       "2013-01-04  2013-01-04   8.666667  71.333333    1.233333   1017.166667   \n",
       "2013-01-05  2013-01-05   6.000000  86.833333    3.700000   1016.500000   \n",
       "...                ...        ...        ...         ...           ...   \n",
       "2014-06-26  2014-06-26  32.500000  60.375000    3.237500   1001.000000   \n",
       "2014-06-27  2014-06-27  34.750000  48.500000    9.487500   1001.625000   \n",
       "2014-06-28  2014-06-28  34.875000  49.000000    5.787500    999.375000   \n",
       "2014-06-29  2014-06-29  33.000000  57.750000    9.712500    997.750000   \n",
       "2014-06-30  2014-06-30  32.000000  67.750000    3.250000    997.500000   \n",
       "\n",
       "                datetime_fmt  \n",
       "datetime                      \n",
       "2013-01-01  January 01, 2013  \n",
       "2013-01-02  January 02, 2013  \n",
       "2013-01-03  January 03, 2013  \n",
       "2013-01-04  January 04, 2013  \n",
       "2013-01-05  January 05, 2013  \n",
       "...                      ...  \n",
       "2014-06-26     June 26, 2014  \n",
       "2014-06-27     June 27, 2014  \n",
       "2014-06-28     June 28, 2014  \n",
       "2014-06-29     June 29, 2014  \n",
       "2014-06-30     June 30, 2014  \n",
       "\n",
       "[546 rows x 6 columns]"
      ]
     },
     "execution_count": 19,
     "metadata": {},
     "output_type": "execute_result"
    }
   ],
   "source": [
    "df.loc['2013':'06-2014']"
   ]
  },
  {
   "cell_type": "markdown",
   "id": "19431424",
   "metadata": {},
   "source": [
    "Pandas even let's us use completely different date formats! (though this would get confusing in your own code and should be avoided).\n",
    "To get everything from 03/2013 to 06/2014 we could use:"
   ]
  },
  {
   "cell_type": "code",
   "execution_count": 20,
   "id": "fb259f15",
   "metadata": {},
   "outputs": [
    {
     "data": {
      "text/html": [
       "<div>\n",
       "<style scoped>\n",
       "    .dataframe tbody tr th:only-of-type {\n",
       "        vertical-align: middle;\n",
       "    }\n",
       "\n",
       "    .dataframe tbody tr th {\n",
       "        vertical-align: top;\n",
       "    }\n",
       "\n",
       "    .dataframe thead th {\n",
       "        text-align: right;\n",
       "    }\n",
       "</style>\n",
       "<table border=\"1\" class=\"dataframe\">\n",
       "  <thead>\n",
       "    <tr style=\"text-align: right;\">\n",
       "      <th></th>\n",
       "      <th>date</th>\n",
       "      <th>meantemp</th>\n",
       "      <th>humidity</th>\n",
       "      <th>wind_speed</th>\n",
       "      <th>meanpressure</th>\n",
       "      <th>datetime_fmt</th>\n",
       "    </tr>\n",
       "    <tr>\n",
       "      <th>datetime</th>\n",
       "      <th></th>\n",
       "      <th></th>\n",
       "      <th></th>\n",
       "      <th></th>\n",
       "      <th></th>\n",
       "      <th></th>\n",
       "    </tr>\n",
       "  </thead>\n",
       "  <tbody>\n",
       "    <tr>\n",
       "      <th>2013-03-01</th>\n",
       "      <td>2013-03-01</td>\n",
       "      <td>17.333333</td>\n",
       "      <td>49.333333</td>\n",
       "      <td>24.066667</td>\n",
       "      <td>1016.333333</td>\n",
       "      <td>March 01, 2013</td>\n",
       "    </tr>\n",
       "    <tr>\n",
       "      <th>2013-03-02</th>\n",
       "      <td>2013-03-02</td>\n",
       "      <td>19.000000</td>\n",
       "      <td>54.000000</td>\n",
       "      <td>15.725000</td>\n",
       "      <td>1016.250000</td>\n",
       "      <td>March 02, 2013</td>\n",
       "    </tr>\n",
       "    <tr>\n",
       "      <th>2013-03-03</th>\n",
       "      <td>2013-03-03</td>\n",
       "      <td>19.333333</td>\n",
       "      <td>62.833333</td>\n",
       "      <td>8.633333</td>\n",
       "      <td>1016.166667</td>\n",
       "      <td>March 03, 2013</td>\n",
       "    </tr>\n",
       "    <tr>\n",
       "      <th>2013-03-04</th>\n",
       "      <td>2013-03-04</td>\n",
       "      <td>17.600000</td>\n",
       "      <td>71.000000</td>\n",
       "      <td>5.560000</td>\n",
       "      <td>1015.800000</td>\n",
       "      <td>March 04, 2013</td>\n",
       "    </tr>\n",
       "    <tr>\n",
       "      <th>2013-03-05</th>\n",
       "      <td>2013-03-05</td>\n",
       "      <td>20.875000</td>\n",
       "      <td>61.875000</td>\n",
       "      <td>4.162500</td>\n",
       "      <td>1016.375000</td>\n",
       "      <td>March 05, 2013</td>\n",
       "    </tr>\n",
       "    <tr>\n",
       "      <th>...</th>\n",
       "      <td>...</td>\n",
       "      <td>...</td>\n",
       "      <td>...</td>\n",
       "      <td>...</td>\n",
       "      <td>...</td>\n",
       "      <td>...</td>\n",
       "    </tr>\n",
       "    <tr>\n",
       "      <th>2014-06-26</th>\n",
       "      <td>2014-06-26</td>\n",
       "      <td>32.500000</td>\n",
       "      <td>60.375000</td>\n",
       "      <td>3.237500</td>\n",
       "      <td>1001.000000</td>\n",
       "      <td>June 26, 2014</td>\n",
       "    </tr>\n",
       "    <tr>\n",
       "      <th>2014-06-27</th>\n",
       "      <td>2014-06-27</td>\n",
       "      <td>34.750000</td>\n",
       "      <td>48.500000</td>\n",
       "      <td>9.487500</td>\n",
       "      <td>1001.625000</td>\n",
       "      <td>June 27, 2014</td>\n",
       "    </tr>\n",
       "    <tr>\n",
       "      <th>2014-06-28</th>\n",
       "      <td>2014-06-28</td>\n",
       "      <td>34.875000</td>\n",
       "      <td>49.000000</td>\n",
       "      <td>5.787500</td>\n",
       "      <td>999.375000</td>\n",
       "      <td>June 28, 2014</td>\n",
       "    </tr>\n",
       "    <tr>\n",
       "      <th>2014-06-29</th>\n",
       "      <td>2014-06-29</td>\n",
       "      <td>33.000000</td>\n",
       "      <td>57.750000</td>\n",
       "      <td>9.712500</td>\n",
       "      <td>997.750000</td>\n",
       "      <td>June 29, 2014</td>\n",
       "    </tr>\n",
       "    <tr>\n",
       "      <th>2014-06-30</th>\n",
       "      <td>2014-06-30</td>\n",
       "      <td>32.000000</td>\n",
       "      <td>67.750000</td>\n",
       "      <td>3.250000</td>\n",
       "      <td>997.500000</td>\n",
       "      <td>June 30, 2014</td>\n",
       "    </tr>\n",
       "  </tbody>\n",
       "</table>\n",
       "<p>487 rows × 6 columns</p>\n",
       "</div>"
      ],
      "text/plain": [
       "                  date   meantemp   humidity  wind_speed  meanpressure  \\\n",
       "datetime                                                                 \n",
       "2013-03-01  2013-03-01  17.333333  49.333333   24.066667   1016.333333   \n",
       "2013-03-02  2013-03-02  19.000000  54.000000   15.725000   1016.250000   \n",
       "2013-03-03  2013-03-03  19.333333  62.833333    8.633333   1016.166667   \n",
       "2013-03-04  2013-03-04  17.600000  71.000000    5.560000   1015.800000   \n",
       "2013-03-05  2013-03-05  20.875000  61.875000    4.162500   1016.375000   \n",
       "...                ...        ...        ...         ...           ...   \n",
       "2014-06-26  2014-06-26  32.500000  60.375000    3.237500   1001.000000   \n",
       "2014-06-27  2014-06-27  34.750000  48.500000    9.487500   1001.625000   \n",
       "2014-06-28  2014-06-28  34.875000  49.000000    5.787500    999.375000   \n",
       "2014-06-29  2014-06-29  33.000000  57.750000    9.712500    997.750000   \n",
       "2014-06-30  2014-06-30  32.000000  67.750000    3.250000    997.500000   \n",
       "\n",
       "              datetime_fmt  \n",
       "datetime                    \n",
       "2013-03-01  March 01, 2013  \n",
       "2013-03-02  March 02, 2013  \n",
       "2013-03-03  March 03, 2013  \n",
       "2013-03-04  March 04, 2013  \n",
       "2013-03-05  March 05, 2013  \n",
       "...                    ...  \n",
       "2014-06-26   June 26, 2014  \n",
       "2014-06-27   June 27, 2014  \n",
       "2014-06-28   June 28, 2014  \n",
       "2014-06-29   June 29, 2014  \n",
       "2014-06-30   June 30, 2014  \n",
       "\n",
       "[487 rows x 6 columns]"
      ]
     },
     "execution_count": 20,
     "metadata": {},
     "output_type": "execute_result"
    }
   ],
   "source": [
    "# Just to demonstrate the flexibility, we can use different formats in one line of code\n",
    "df.loc['March, 2013':'06-2014']"
   ]
  },
  {
   "cell_type": "markdown",
   "id": "1596334a",
   "metadata": {},
   "source": [
    "### Finding dates of extreme values - using .idxmax() and .idxmin()\n",
    "Now that we have a datetime index, we can start answering some questions about historical extreme values.\n",
    "For example, print the following sentence for the most humid day in in this dataset:\n",
    "\"The most humid day was {date as dd/mm/yyyy}, which was a {day of the week}. The humidity was { max humidity}, and the average temperature was {}\"\n",
    "#### Option 1: Find max and filter (not recommended)\n",
    "\n",
    "One approach we could take is to find the highest humidity value , we could use df['humidity'].max(), but that would only give us the humidity value.\n",
    "We will also have to do some filtering with pandas to find the date with the max:"
   ]
  },
  {
   "cell_type": "code",
   "execution_count": 21,
   "id": "88dce39a",
   "metadata": {},
   "outputs": [
    {
     "data": {
      "text/html": [
       "<div>\n",
       "<style scoped>\n",
       "    .dataframe tbody tr th:only-of-type {\n",
       "        vertical-align: middle;\n",
       "    }\n",
       "\n",
       "    .dataframe tbody tr th {\n",
       "        vertical-align: top;\n",
       "    }\n",
       "\n",
       "    .dataframe thead th {\n",
       "        text-align: right;\n",
       "    }\n",
       "</style>\n",
       "<table border=\"1\" class=\"dataframe\">\n",
       "  <thead>\n",
       "    <tr style=\"text-align: right;\">\n",
       "      <th></th>\n",
       "      <th>date</th>\n",
       "      <th>meantemp</th>\n",
       "      <th>humidity</th>\n",
       "      <th>wind_speed</th>\n",
       "      <th>meanpressure</th>\n",
       "      <th>datetime_fmt</th>\n",
       "    </tr>\n",
       "    <tr>\n",
       "      <th>datetime</th>\n",
       "      <th></th>\n",
       "      <th></th>\n",
       "      <th></th>\n",
       "      <th></th>\n",
       "      <th></th>\n",
       "      <th></th>\n",
       "    </tr>\n",
       "  </thead>\n",
       "  <tbody>\n",
       "    <tr>\n",
       "      <th>2017-01-01</th>\n",
       "      <td>2017-01-01</td>\n",
       "      <td>10.0</td>\n",
       "      <td>100.0</td>\n",
       "      <td>0.0</td>\n",
       "      <td>1016.0</td>\n",
       "      <td>January 01, 2017</td>\n",
       "    </tr>\n",
       "  </tbody>\n",
       "</table>\n",
       "</div>"
      ],
      "text/plain": [
       "                  date  meantemp  humidity  wind_speed  meanpressure  \\\n",
       "datetime                                                               \n",
       "2017-01-01  2017-01-01      10.0     100.0         0.0        1016.0   \n",
       "\n",
       "                datetime_fmt  \n",
       "datetime                      \n",
       "2017-01-01  January 01, 2017  "
      ]
     },
     "execution_count": 21,
     "metadata": {},
     "output_type": "execute_result"
    }
   ],
   "source": [
    "## using max and slicing to find the index\n",
    "max_humid = df['humidity'].max()\n",
    "most_humid_date = df.loc[ df['humidity']==max_humid]\n",
    "max_date = most_humid_date.index\n",
    "most_humid_date"
   ]
  },
  {
   "cell_type": "code",
   "execution_count": 22,
   "id": "ce4eab28",
   "metadata": {},
   "outputs": [
    {
     "name": "stdout",
     "output_type": "stream",
     "text": [
      "The most humid day was Index(['01/01/2017'], dtype='object', name='datetime'), which was a Index(['Sunday'], dtype='object', name='datetime').\n",
      " The humidity was 100.0, and the average temperature was datetime\n",
      "2017-01-01    10.0\n",
      "Name: meantemp, dtype: float64\n"
     ]
    }
   ],
   "source": [
    "## now print the requested statement\n",
    "print(f\"The most humid day was {max_date.strftime('%m/%d/%Y')}, which was a {max_date.day_name()}.\")\n",
    "print(f\" The humidity was {max_humid}, and the average temperature was {most_humid_date['meantemp']}\")"
   ]
  },
  {
   "cell_type": "markdown",
   "id": "07f5a414",
   "metadata": {},
   "source": [
    "As you can see, we receive Pandas series for most of the values we sliced, even though we only had 1 row.\n",
    "#### Option 2: Using .idxmax() (recommended)\n",
    "\n",
    "An alternative (and better) option:\n",
    "We can use the .idxmax() method to get the INDEX of the maximum value."
   ]
  },
  {
   "cell_type": "code",
   "execution_count": 24,
   "id": "86952bd5",
   "metadata": {},
   "outputs": [
    {
     "data": {
      "text/plain": [
       "Timestamp('2017-01-01 00:00:00')"
      ]
     },
     "execution_count": 24,
     "metadata": {},
     "output_type": "execute_result"
    }
   ],
   "source": [
    "max_date = df['humidity'].idxmax()\n",
    "max_date"
   ]
  },
  {
   "cell_type": "code",
   "execution_count": 25,
   "id": "0b2a6822",
   "metadata": {},
   "outputs": [
    {
     "data": {
      "text/plain": [
       "date                  2017-01-01\n",
       "meantemp                    10.0\n",
       "humidity                   100.0\n",
       "wind_speed                   0.0\n",
       "meanpressure              1016.0\n",
       "datetime_fmt    January 01, 2017\n",
       "Name: 2017-01-01 00:00:00, dtype: object"
      ]
     },
     "execution_count": 25,
     "metadata": {},
     "output_type": "execute_result"
    }
   ],
   "source": [
    "df.loc[max_date]"
   ]
  },
  {
   "cell_type": "markdown",
   "id": "7cfe4e6f",
   "metadata": {},
   "source": [
    "We need to construct a print statement that will use several pieces of information that we want to pull from our Series for the max_date.\n",
    "To simplify the f-string we will create, we can save all of the values from our 1 row of 5 values (date, meantemp, humidity, wind_speed, meanpressure) in separate variables. The long/tedious way we could do this is to use a separate line for each variable we want to create and use a df.loc to slice out the right feature."
   ]
  },
  {
   "cell_type": "code",
   "execution_count": 26,
   "id": "4d147825",
   "metadata": {},
   "outputs": [
    {
     "data": {
      "text/plain": [
       "('2017-01-01', 10.0, 100.0, 0.0, 1016.0)"
      ]
     },
     "execution_count": 26,
     "metadata": {},
     "output_type": "execute_result"
    }
   ],
   "source": [
    "## TEDIOUS WAY/BAD WAY\n",
    "## Saving each value from the series as separate variables\n",
    "str_date = df.loc[max_date,'date']\n",
    "temp = df.loc[max_date,'meantemp']\n",
    "humidity = df.loc[max_date,'humidity']\n",
    "wind = df.loc[max_date,'wind_speed']\n",
    "pressure = df.loc[max_date,'meanpressure']\n",
    "# Proving that it worked!\n",
    "str_date, temp, humidity, wind, pressure"
   ]
  },
  {
   "cell_type": "markdown",
   "id": "8257c35c",
   "metadata": {},
   "source": [
    "Instead of having to do this in many lines, we can do it all in 1 line by leveraging Python's tuple unpacking.\n",
    "See this Geeks for Geeks article for more information on unpacking with python.\n",
    "In short, if we have a variable that contains several values, we can slice out each value into a new variable by setting a variable name for each variable we want to create on the left side of the = and then the container (list/series/etc) that we want to unpack on the right side of the =."
   ]
  },
  {
   "cell_type": "code",
   "execution_count": 27,
   "id": "02d9e637",
   "metadata": {},
   "outputs": [
    {
     "data": {
      "text/plain": [
       "date                  2017-01-01\n",
       "meantemp                    10.0\n",
       "humidity                   100.0\n",
       "wind_speed                   0.0\n",
       "meanpressure              1016.0\n",
       "datetime_fmt    January 01, 2017\n",
       "Name: 2017-01-01 00:00:00, dtype: object"
      ]
     },
     "execution_count": 27,
     "metadata": {},
     "output_type": "execute_result"
    }
   ],
   "source": [
    "df.loc[max_date]"
   ]
  },
  {
   "cell_type": "code",
   "execution_count": 29,
   "id": "ecd66dcf",
   "metadata": {},
   "outputs": [
    {
     "ename": "ValueError",
     "evalue": "too many values to unpack (expected 5)",
     "output_type": "error",
     "traceback": [
      "\u001b[0;31m---------------------------------------------------------------------------\u001b[0m",
      "\u001b[0;31mValueError\u001b[0m                                Traceback (most recent call last)",
      "Cell \u001b[0;32mIn [29], line 2\u001b[0m\n\u001b[1;32m      1\u001b[0m \u001b[38;5;66;03m## Saving each value from the series as separate variables\u001b[39;00m\n\u001b[0;32m----> 2\u001b[0m str_date,temp, humidity, wind, pressure \u001b[38;5;241m=\u001b[39m df\u001b[38;5;241m.\u001b[39mloc[max_date]\n\u001b[1;32m      3\u001b[0m \u001b[38;5;66;03m# Proving that it worked!\u001b[39;00m\n\u001b[1;32m      4\u001b[0m str_date, temp, humidity, wind, pressure\n",
      "\u001b[0;31mValueError\u001b[0m: too many values to unpack (expected 5)"
     ]
    }
   ],
   "source": [
    "## Saving each value from the series as separate variables\n",
    "str_date,temp, humidity, wind, pressure = df.loc[max_date]\n",
    "# Proving that it worked!\n",
    "str_date, temp, humidity, wind, pressure"
   ]
  },
  {
   "cell_type": "code",
   "execution_count": 30,
   "id": "4207a6cd",
   "metadata": {},
   "outputs": [
    {
     "name": "stdout",
     "output_type": "stream",
     "text": [
      "The most humid day was 01/01/2017, which was a Sunday.\n",
      "The humidity was 100.00,and the average temperature was 10.00.\n"
     ]
    }
   ],
   "source": [
    "## now print the requested statement\n",
    "print(f\"The most humid day was {max_date.strftime('%m/%d/%Y')}, \\\n",
    "which was a {max_date.day_name()}.\")\n",
    "print(f\"The humidity was {humidity:.2f},\\\n",
    "and the average temperature was {temp:.2f}.\")"
   ]
  },
  {
   "cell_type": "markdown",
   "id": "e7361846",
   "metadata": {},
   "source": [
    "## Summary\n",
    "This lesson demonstrated how to convert a feature in a Pandas Dataframe to a Timestamp object. Both the timestamp object and the basic Python datetime objects can be formatted using strftime, and individual components of the date can be easily extracted from each. You also learned to convert the time series to an index for slicing. Finally, you practiced using .idxmin() or .idxmax() to obtain dates associated with extreme values."
   ]
  },
  {
   "cell_type": "code",
   "execution_count": null,
   "id": "97f67aa1",
   "metadata": {},
   "outputs": [],
   "source": []
  }
 ],
 "metadata": {
  "kernelspec": {
   "display_name": "Python (dojo-env)",
   "language": "python",
   "name": "dojo-env"
  },
  "language_info": {
   "codemirror_mode": {
    "name": "ipython",
    "version": 3
   },
   "file_extension": ".py",
   "mimetype": "text/x-python",
   "name": "python",
   "nbconvert_exporter": "python",
   "pygments_lexer": "ipython3",
   "version": "3.9.15"
  },
  "toc": {
   "base_numbering": 1,
   "nav_menu": {},
   "number_sections": false,
   "sideBar": true,
   "skip_h1_title": false,
   "title_cell": "Table of Contents",
   "title_sidebar": "Contents",
   "toc_cell": false,
   "toc_position": {},
   "toc_section_display": true,
   "toc_window_display": false
  }
 },
 "nbformat": 4,
 "nbformat_minor": 5
}
