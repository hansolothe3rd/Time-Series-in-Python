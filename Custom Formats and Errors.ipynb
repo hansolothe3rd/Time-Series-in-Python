{
 "cells": [
  {
   "cell_type": "markdown",
   "id": "1e001716",
   "metadata": {},
   "source": [
    "# Custom Formats and Errors\n"
   ]
  },
  {
   "cell_type": "markdown",
   "id": "481fc05e",
   "metadata": {},
   "source": [
    "In the previous lesson, pandas was easily able to recognize the original date column as a date and was able to convert the values to the appropriate datetime values. (It recognized year as year, month as month, etc.) While pd.to_datetime is clever, it can still need help interpreting rare formats.\n",
    "\n",
    "## Using pd.to_datetime with custom date formats\n",
    "While Pandas is usually able to automatically infer the format of the dates to convert, it doesn't always work properly.\n",
    "In these scenarios, we can add the \"format\" argument to pd.to_datetime and create a date format string that represents the form of the current date column.\n",
    "Let's take a look at a new dataset with a unique format for the datetime, the London Weather data set from Kaggle. We will call this one \"demo\", and will return to our original \"df\" after this."
   ]
  },
  {
   "cell_type": "code",
   "execution_count": 2,
   "id": "d29fe4b5",
   "metadata": {},
   "outputs": [
    {
     "name": "stdout",
     "output_type": "stream",
     "text": [
      "<class 'pandas.core.frame.DataFrame'>\n",
      "RangeIndex: 15341 entries, 0 to 15340\n",
      "Data columns (total 2 columns):\n",
      " #   Column       Non-Null Count  Dtype  \n",
      "---  ------       --------------  -----  \n",
      " 0   date         15341 non-null  int64  \n",
      " 1   cloud_cover  14938 non-null  float64\n",
      "dtypes: float64(1), int64(1)\n",
      "memory usage: 239.8 KB\n"
     ]
    },
    {
     "data": {
      "text/html": [
       "<div>\n",
       "<style scoped>\n",
       "    .dataframe tbody tr th:only-of-type {\n",
       "        vertical-align: middle;\n",
       "    }\n",
       "\n",
       "    .dataframe tbody tr th {\n",
       "        vertical-align: top;\n",
       "    }\n",
       "\n",
       "    .dataframe thead th {\n",
       "        text-align: right;\n",
       "    }\n",
       "</style>\n",
       "<table border=\"1\" class=\"dataframe\">\n",
       "  <thead>\n",
       "    <tr style=\"text-align: right;\">\n",
       "      <th></th>\n",
       "      <th>date</th>\n",
       "      <th>cloud_cover</th>\n",
       "    </tr>\n",
       "  </thead>\n",
       "  <tbody>\n",
       "    <tr>\n",
       "      <th>0</th>\n",
       "      <td>19790101</td>\n",
       "      <td>2.0</td>\n",
       "    </tr>\n",
       "    <tr>\n",
       "      <th>1</th>\n",
       "      <td>19790102</td>\n",
       "      <td>6.0</td>\n",
       "    </tr>\n",
       "    <tr>\n",
       "      <th>2</th>\n",
       "      <td>19790103</td>\n",
       "      <td>5.0</td>\n",
       "    </tr>\n",
       "    <tr>\n",
       "      <th>3</th>\n",
       "      <td>19790104</td>\n",
       "      <td>8.0</td>\n",
       "    </tr>\n",
       "    <tr>\n",
       "      <th>4</th>\n",
       "      <td>19790105</td>\n",
       "      <td>6.0</td>\n",
       "    </tr>\n",
       "    <tr>\n",
       "      <th>...</th>\n",
       "      <td>...</td>\n",
       "      <td>...</td>\n",
       "    </tr>\n",
       "    <tr>\n",
       "      <th>15336</th>\n",
       "      <td>20201227</td>\n",
       "      <td>1.0</td>\n",
       "    </tr>\n",
       "    <tr>\n",
       "      <th>15337</th>\n",
       "      <td>20201228</td>\n",
       "      <td>7.0</td>\n",
       "    </tr>\n",
       "    <tr>\n",
       "      <th>15338</th>\n",
       "      <td>20201229</td>\n",
       "      <td>7.0</td>\n",
       "    </tr>\n",
       "    <tr>\n",
       "      <th>15339</th>\n",
       "      <td>20201230</td>\n",
       "      <td>6.0</td>\n",
       "    </tr>\n",
       "    <tr>\n",
       "      <th>15340</th>\n",
       "      <td>20201231</td>\n",
       "      <td>7.0</td>\n",
       "    </tr>\n",
       "  </tbody>\n",
       "</table>\n",
       "<p>15341 rows × 2 columns</p>\n",
       "</div>"
      ],
      "text/plain": [
       "           date  cloud_cover\n",
       "0      19790101          2.0\n",
       "1      19790102          6.0\n",
       "2      19790103          5.0\n",
       "3      19790104          8.0\n",
       "4      19790105          6.0\n",
       "...         ...          ...\n",
       "15336  20201227          1.0\n",
       "15337  20201228          7.0\n",
       "15338  20201229          7.0\n",
       "15339  20201230          6.0\n",
       "15340  20201231          7.0\n",
       "\n",
       "[15341 rows x 2 columns]"
      ]
     },
     "execution_count": 2,
     "metadata": {},
     "output_type": "execute_result"
    }
   ],
   "source": [
    "import pandas as pd\n",
    "demo = pd.read_csv('https://docs.google.com/spreadsheets/d/e/2PACX-1vT_jChgNsQbHbg4TGepzIqk8XC9DTIKmyyxb1upo5cfZCgbfIUQc2ZC0YMzuU5uApP140Ob49KBjdqh/pub?gid=1198589591&single=true&output=csv', usecols=[0,1])\n",
    "demo.info()\n",
    "demo"
   ]
  },
  {
   "cell_type": "markdown",
   "id": "ea2bcbb0",
   "metadata": {},
   "source": [
    "Notice how the date is an integer, not a string.\n",
    "Let's try using pd.to_datetime without any arguments (as we did in the previous lesson):"
   ]
  },
  {
   "cell_type": "code",
   "execution_count": 3,
   "id": "2337d41d",
   "metadata": {},
   "outputs": [
    {
     "data": {
      "text/plain": [
       "0       1970-01-01 00:00:00.019790101\n",
       "1       1970-01-01 00:00:00.019790102\n",
       "2       1970-01-01 00:00:00.019790103\n",
       "3       1970-01-01 00:00:00.019790104\n",
       "4       1970-01-01 00:00:00.019790105\n",
       "                     ...             \n",
       "15336   1970-01-01 00:00:00.020201227\n",
       "15337   1970-01-01 00:00:00.020201228\n",
       "15338   1970-01-01 00:00:00.020201229\n",
       "15339   1970-01-01 00:00:00.020201230\n",
       "15340   1970-01-01 00:00:00.020201231\n",
       "Name: date, Length: 15341, dtype: datetime64[ns]"
      ]
     },
     "execution_count": 3,
     "metadata": {},
     "output_type": "execute_result"
    }
   ],
   "source": [
    "pd.to_datetime(demo['date'])"
   ]
  },
  {
   "cell_type": "markdown",
   "id": "310d0575",
   "metadata": {},
   "source": [
    "What happened? What did we get?\n",
    "Pandas was confused and tried to interpret the integer dates as Unix times.\n",
    "Unix times are a way of expressing date and time with just numbers. However, the earliest possible unix date is January 01, 1970.\n",
    "As you can see above, it assigned the date of 1970-01-01 to every date. And then used the integer date as the number of milliseconds AFTER 12:00AM on 01/01/1970.\n",
    "The main thing to notice here is: This is not what we wanted!! It is essential that you check the results of anything you ask Python to do to make sure it is working how you expect it to! If not, you need to investigate further and figure out what the issue is.\n",
    "\n",
    "In this case, python needs a little help from us humans! Let's examine our original date format and see if we can decipher it!"
   ]
  },
  {
   "cell_type": "code",
   "execution_count": 4,
   "id": "6fc071de",
   "metadata": {},
   "outputs": [
    {
     "data": {
      "text/plain": [
       "151      19790601\n",
       "2210     19850119\n",
       "2767     19860730\n",
       "3056     19870515\n",
       "4520     19910518\n",
       "4595     19910801\n",
       "7501     19990716\n",
       "7572     19990925\n",
       "7852     20000701\n",
       "13325    20150626\n",
       "Name: date, dtype: int64"
      ]
     },
     "execution_count": 4,
     "metadata": {},
     "output_type": "execute_result"
    }
   ],
   "source": [
    "## displaying random sample\n",
    "demo['date'].sample(n=10).sort_index()"
   ]
  },
  {
   "cell_type": "markdown",
   "id": "6e352b28",
   "metadata": {},
   "source": [
    "(Your random sample will be different because we did not set a seed here).\n",
    "\n",
    "It looks like we have 4-digit years (%Y), followed by the 2-digit month (%m) followed by 2-digit day (%d).\n",
    "Once we identify the format of our original column, we can create the format string that Pandas will need to properly parse these dates.\n",
    "The combined format code to use is \"%Y%m%d\". Let's try using this as the format argument for to_datetime:"
   ]
  },
  {
   "cell_type": "code",
   "execution_count": 5,
   "id": "f2dd5bcf",
   "metadata": {},
   "outputs": [
    {
     "data": {
      "text/plain": [
       "0       1979-01-01\n",
       "1       1979-01-02\n",
       "2       1979-01-03\n",
       "3       1979-01-04\n",
       "4       1979-01-05\n",
       "           ...    \n",
       "15336   2020-12-27\n",
       "15337   2020-12-28\n",
       "15338   2020-12-29\n",
       "15339   2020-12-30\n",
       "15340   2020-12-31\n",
       "Name: date, Length: 15341, dtype: datetime64[ns]"
      ]
     },
     "execution_count": 5,
     "metadata": {},
     "output_type": "execute_result"
    }
   ],
   "source": [
    "pd.to_datetime(demo['date'], format='%Y%m%d')\n"
   ]
  },
  {
   "cell_type": "markdown",
   "id": "896f663d",
   "metadata": {},
   "source": [
    "That looks MUCH better. Remember, when pd.to_datetime doesn't return what you would expect, you will need to figure out the format code that is appropriate for your current date formatting.\n",
    "### Handling pd.to_datetime Errors\n",
    "We will use another dataset for this demonstration\n",
    "\n",
    "We will be working with crime data taken directly from the city of Baltimore via Baltimore's Open Data website: https://data.baltimorecity.gov/search?q=crime data\n",
    "The exact data we want is \"Part 1 Crime Data\"\n",
    "It is large file and will take some time to download."
   ]
  },
  {
   "cell_type": "code",
   "execution_count": 6,
   "id": "aa22e650",
   "metadata": {},
   "outputs": [
    {
     "data": {
      "text/html": [
       "<div>\n",
       "<style scoped>\n",
       "    .dataframe tbody tr th:only-of-type {\n",
       "        vertical-align: middle;\n",
       "    }\n",
       "\n",
       "    .dataframe tbody tr th {\n",
       "        vertical-align: top;\n",
       "    }\n",
       "\n",
       "    .dataframe thead th {\n",
       "        text-align: right;\n",
       "    }\n",
       "</style>\n",
       "<table border=\"1\" class=\"dataframe\">\n",
       "  <thead>\n",
       "    <tr style=\"text-align: right;\">\n",
       "      <th></th>\n",
       "      <th>CrimeDateTime</th>\n",
       "      <th>Description</th>\n",
       "      <th>District</th>\n",
       "      <th>Latitude</th>\n",
       "      <th>Longitude</th>\n",
       "    </tr>\n",
       "  </thead>\n",
       "  <tbody>\n",
       "    <tr>\n",
       "      <th>0</th>\n",
       "      <td>2022/07/09 09:30:00+00</td>\n",
       "      <td>ROBBERY - RESIDENCE</td>\n",
       "      <td>NORTHEAST</td>\n",
       "      <td>39.3223</td>\n",
       "      <td>-76.5467</td>\n",
       "    </tr>\n",
       "    <tr>\n",
       "      <th>1</th>\n",
       "      <td>2022/07/09 16:00:00+00</td>\n",
       "      <td>COMMON ASSAULT</td>\n",
       "      <td>SOUTHERN</td>\n",
       "      <td>39.2821</td>\n",
       "      <td>-76.6355</td>\n",
       "    </tr>\n",
       "    <tr>\n",
       "      <th>2</th>\n",
       "      <td>2022/07/09 00:34:28+00</td>\n",
       "      <td>SHOOTING</td>\n",
       "      <td>SOUTHWEST</td>\n",
       "      <td>39.2884</td>\n",
       "      <td>-76.6569</td>\n",
       "    </tr>\n",
       "  </tbody>\n",
       "</table>\n",
       "</div>"
      ],
      "text/plain": [
       "            CrimeDateTime          Description   District  Latitude  Longitude\n",
       "0  2022/07/09 09:30:00+00  ROBBERY - RESIDENCE  NORTHEAST   39.3223   -76.5467\n",
       "1  2022/07/09 16:00:00+00       COMMON ASSAULT   SOUTHERN   39.2821   -76.6355\n",
       "2  2022/07/09 00:34:28+00             SHOOTING  SOUTHWEST   39.2884   -76.6569"
      ]
     },
     "execution_count": 6,
     "metadata": {},
     "output_type": "execute_result"
    }
   ],
   "source": [
    "url = \"https://docs.google.com/spreadsheets/d/e/2PACX-1vQ4lekzpYpo0pA9h1d3KYObIb3lQtAqz289c7jpwckioXvxm4xykz6ZSJpnDwjKTxJ4iqpG0seNJdSZ/pub?gidass=>=312387697&single=true&output=csv\"\n",
    "demo = pd.read_csv(url)\n",
    "demo.head(3)"
   ]
  },
  {
   "cell_type": "markdown",
   "id": "291b2506",
   "metadata": {},
   "source": [
    "If you try to convert the \"CrimeDateTime\" column to datetime with pd.to_datetime, you will get an error!"
   ]
  },
  {
   "cell_type": "code",
   "execution_count": 7,
   "id": "babbfa94",
   "metadata": {},
   "outputs": [
    {
     "ename": "OutOfBoundsDatetime",
     "evalue": "Out of bounds nanosecond timestamp: 1202-05-22 10:56:02 present at position 522867",
     "output_type": "error",
     "traceback": [
      "\u001b[0;31m---------------------------------------------------------------------------\u001b[0m",
      "\u001b[0;31mOutOfBoundsDatetime\u001b[0m                       Traceback (most recent call last)",
      "Cell \u001b[0;32mIn [7], line 2\u001b[0m\n\u001b[1;32m      1\u001b[0m \u001b[38;5;66;03m# This will give an error\u001b[39;00m\n\u001b[0;32m----> 2\u001b[0m \u001b[43mpd\u001b[49m\u001b[38;5;241;43m.\u001b[39;49m\u001b[43mto_datetime\u001b[49m\u001b[43m(\u001b[49m\u001b[43mdemo\u001b[49m\u001b[43m[\u001b[49m\u001b[38;5;124;43m'\u001b[39;49m\u001b[38;5;124;43mCrimeDateTime\u001b[39;49m\u001b[38;5;124;43m'\u001b[39;49m\u001b[43m]\u001b[49m\u001b[43m)\u001b[49m\n",
      "File \u001b[0;32m/opt/homebrew/Caskroom/miniforge/base/envs/dojo-env/lib/python3.9/site-packages/pandas/core/tools/datetimes.py:1068\u001b[0m, in \u001b[0;36mto_datetime\u001b[0;34m(arg, errors, dayfirst, yearfirst, utc, format, exact, unit, infer_datetime_format, origin, cache)\u001b[0m\n\u001b[1;32m   1066\u001b[0m         result \u001b[38;5;241m=\u001b[39m arg\u001b[38;5;241m.\u001b[39mmap(cache_array)\n\u001b[1;32m   1067\u001b[0m     \u001b[38;5;28;01melse\u001b[39;00m:\n\u001b[0;32m-> 1068\u001b[0m         values \u001b[38;5;241m=\u001b[39m \u001b[43mconvert_listlike\u001b[49m\u001b[43m(\u001b[49m\u001b[43marg\u001b[49m\u001b[38;5;241;43m.\u001b[39;49m\u001b[43m_values\u001b[49m\u001b[43m,\u001b[49m\u001b[43m \u001b[49m\u001b[38;5;28;43mformat\u001b[39;49m\u001b[43m)\u001b[49m\n\u001b[1;32m   1069\u001b[0m         result \u001b[38;5;241m=\u001b[39m arg\u001b[38;5;241m.\u001b[39m_constructor(values, index\u001b[38;5;241m=\u001b[39marg\u001b[38;5;241m.\u001b[39mindex, name\u001b[38;5;241m=\u001b[39marg\u001b[38;5;241m.\u001b[39mname)\n\u001b[1;32m   1070\u001b[0m \u001b[38;5;28;01melif\u001b[39;00m \u001b[38;5;28misinstance\u001b[39m(arg, (ABCDataFrame, abc\u001b[38;5;241m.\u001b[39mMutableMapping)):\n",
      "File \u001b[0;32m/opt/homebrew/Caskroom/miniforge/base/envs/dojo-env/lib/python3.9/site-packages/pandas/core/tools/datetimes.py:438\u001b[0m, in \u001b[0;36m_convert_listlike_datetimes\u001b[0;34m(arg, format, name, tz, unit, errors, infer_datetime_format, dayfirst, yearfirst, exact)\u001b[0m\n\u001b[1;32m    436\u001b[0m \u001b[38;5;28;01massert\u001b[39;00m \u001b[38;5;28mformat\u001b[39m \u001b[38;5;129;01mis\u001b[39;00m \u001b[38;5;28;01mNone\u001b[39;00m \u001b[38;5;129;01mor\u001b[39;00m infer_datetime_format\n\u001b[1;32m    437\u001b[0m utc \u001b[38;5;241m=\u001b[39m tz \u001b[38;5;241m==\u001b[39m \u001b[38;5;124m\"\u001b[39m\u001b[38;5;124mutc\u001b[39m\u001b[38;5;124m\"\u001b[39m\n\u001b[0;32m--> 438\u001b[0m result, tz_parsed \u001b[38;5;241m=\u001b[39m \u001b[43mobjects_to_datetime64ns\u001b[49m\u001b[43m(\u001b[49m\n\u001b[1;32m    439\u001b[0m \u001b[43m    \u001b[49m\u001b[43marg\u001b[49m\u001b[43m,\u001b[49m\n\u001b[1;32m    440\u001b[0m \u001b[43m    \u001b[49m\u001b[43mdayfirst\u001b[49m\u001b[38;5;241;43m=\u001b[39;49m\u001b[43mdayfirst\u001b[49m\u001b[43m,\u001b[49m\n\u001b[1;32m    441\u001b[0m \u001b[43m    \u001b[49m\u001b[43myearfirst\u001b[49m\u001b[38;5;241;43m=\u001b[39;49m\u001b[43myearfirst\u001b[49m\u001b[43m,\u001b[49m\n\u001b[1;32m    442\u001b[0m \u001b[43m    \u001b[49m\u001b[43mutc\u001b[49m\u001b[38;5;241;43m=\u001b[39;49m\u001b[43mutc\u001b[49m\u001b[43m,\u001b[49m\n\u001b[1;32m    443\u001b[0m \u001b[43m    \u001b[49m\u001b[43merrors\u001b[49m\u001b[38;5;241;43m=\u001b[39;49m\u001b[43merrors\u001b[49m\u001b[43m,\u001b[49m\n\u001b[1;32m    444\u001b[0m \u001b[43m    \u001b[49m\u001b[43mrequire_iso8601\u001b[49m\u001b[38;5;241;43m=\u001b[39;49m\u001b[43mrequire_iso8601\u001b[49m\u001b[43m,\u001b[49m\n\u001b[1;32m    445\u001b[0m \u001b[43m    \u001b[49m\u001b[43mallow_object\u001b[49m\u001b[38;5;241;43m=\u001b[39;49m\u001b[38;5;28;43;01mTrue\u001b[39;49;00m\u001b[43m,\u001b[49m\n\u001b[1;32m    446\u001b[0m \u001b[43m\u001b[49m\u001b[43m)\u001b[49m\n\u001b[1;32m    448\u001b[0m \u001b[38;5;28;01mif\u001b[39;00m tz_parsed \u001b[38;5;129;01mis\u001b[39;00m \u001b[38;5;129;01mnot\u001b[39;00m \u001b[38;5;28;01mNone\u001b[39;00m:\n\u001b[1;32m    449\u001b[0m     \u001b[38;5;66;03m# We can take a shortcut since the datetime64 numpy array\u001b[39;00m\n\u001b[1;32m    450\u001b[0m     \u001b[38;5;66;03m# is in UTC\u001b[39;00m\n\u001b[1;32m    451\u001b[0m     dta \u001b[38;5;241m=\u001b[39m DatetimeArray(result, dtype\u001b[38;5;241m=\u001b[39mtz_to_dtype(tz_parsed))\n",
      "File \u001b[0;32m/opt/homebrew/Caskroom/miniforge/base/envs/dojo-env/lib/python3.9/site-packages/pandas/core/arrays/datetimes.py:2177\u001b[0m, in \u001b[0;36mobjects_to_datetime64ns\u001b[0;34m(data, dayfirst, yearfirst, utc, errors, require_iso8601, allow_object, allow_mixed)\u001b[0m\n\u001b[1;32m   2175\u001b[0m order: Literal[\u001b[38;5;124m\"\u001b[39m\u001b[38;5;124mF\u001b[39m\u001b[38;5;124m\"\u001b[39m, \u001b[38;5;124m\"\u001b[39m\u001b[38;5;124mC\u001b[39m\u001b[38;5;124m\"\u001b[39m] \u001b[38;5;241m=\u001b[39m \u001b[38;5;124m\"\u001b[39m\u001b[38;5;124mF\u001b[39m\u001b[38;5;124m\"\u001b[39m \u001b[38;5;28;01mif\u001b[39;00m flags\u001b[38;5;241m.\u001b[39mf_contiguous \u001b[38;5;28;01melse\u001b[39;00m \u001b[38;5;124m\"\u001b[39m\u001b[38;5;124mC\u001b[39m\u001b[38;5;124m\"\u001b[39m\n\u001b[1;32m   2176\u001b[0m \u001b[38;5;28;01mtry\u001b[39;00m:\n\u001b[0;32m-> 2177\u001b[0m     result, tz_parsed \u001b[38;5;241m=\u001b[39m \u001b[43mtslib\u001b[49m\u001b[38;5;241;43m.\u001b[39;49m\u001b[43marray_to_datetime\u001b[49m\u001b[43m(\u001b[49m\n\u001b[1;32m   2178\u001b[0m \u001b[43m        \u001b[49m\u001b[43mdata\u001b[49m\u001b[38;5;241;43m.\u001b[39;49m\u001b[43mravel\u001b[49m\u001b[43m(\u001b[49m\u001b[38;5;124;43m\"\u001b[39;49m\u001b[38;5;124;43mK\u001b[39;49m\u001b[38;5;124;43m\"\u001b[39;49m\u001b[43m)\u001b[49m\u001b[43m,\u001b[49m\n\u001b[1;32m   2179\u001b[0m \u001b[43m        \u001b[49m\u001b[43merrors\u001b[49m\u001b[38;5;241;43m=\u001b[39;49m\u001b[43merrors\u001b[49m\u001b[43m,\u001b[49m\n\u001b[1;32m   2180\u001b[0m \u001b[43m        \u001b[49m\u001b[43mutc\u001b[49m\u001b[38;5;241;43m=\u001b[39;49m\u001b[43mutc\u001b[49m\u001b[43m,\u001b[49m\n\u001b[1;32m   2181\u001b[0m \u001b[43m        \u001b[49m\u001b[43mdayfirst\u001b[49m\u001b[38;5;241;43m=\u001b[39;49m\u001b[43mdayfirst\u001b[49m\u001b[43m,\u001b[49m\n\u001b[1;32m   2182\u001b[0m \u001b[43m        \u001b[49m\u001b[43myearfirst\u001b[49m\u001b[38;5;241;43m=\u001b[39;49m\u001b[43myearfirst\u001b[49m\u001b[43m,\u001b[49m\n\u001b[1;32m   2183\u001b[0m \u001b[43m        \u001b[49m\u001b[43mrequire_iso8601\u001b[49m\u001b[38;5;241;43m=\u001b[39;49m\u001b[43mrequire_iso8601\u001b[49m\u001b[43m,\u001b[49m\n\u001b[1;32m   2184\u001b[0m \u001b[43m        \u001b[49m\u001b[43mallow_mixed\u001b[49m\u001b[38;5;241;43m=\u001b[39;49m\u001b[43mallow_mixed\u001b[49m\u001b[43m,\u001b[49m\n\u001b[1;32m   2185\u001b[0m \u001b[43m    \u001b[49m\u001b[43m)\u001b[49m\n\u001b[1;32m   2186\u001b[0m     result \u001b[38;5;241m=\u001b[39m result\u001b[38;5;241m.\u001b[39mreshape(data\u001b[38;5;241m.\u001b[39mshape, order\u001b[38;5;241m=\u001b[39morder)\n\u001b[1;32m   2187\u001b[0m \u001b[38;5;28;01mexcept\u001b[39;00m \u001b[38;5;167;01mOverflowError\u001b[39;00m \u001b[38;5;28;01mas\u001b[39;00m err:\n\u001b[1;32m   2188\u001b[0m     \u001b[38;5;66;03m# Exception is raised when a part of date is greater than 32 bit signed int\u001b[39;00m\n",
      "File \u001b[0;32m/opt/homebrew/Caskroom/miniforge/base/envs/dojo-env/lib/python3.9/site-packages/pandas/_libs/tslib.pyx:427\u001b[0m, in \u001b[0;36mpandas._libs.tslib.array_to_datetime\u001b[0;34m()\u001b[0m\n",
      "File \u001b[0;32m/opt/homebrew/Caskroom/miniforge/base/envs/dojo-env/lib/python3.9/site-packages/pandas/_libs/tslib.pyx:678\u001b[0m, in \u001b[0;36mpandas._libs.tslib.array_to_datetime\u001b[0;34m()\u001b[0m\n",
      "File \u001b[0;32m/opt/homebrew/Caskroom/miniforge/base/envs/dojo-env/lib/python3.9/site-packages/pandas/_libs/tslib.pyx:674\u001b[0m, in \u001b[0;36mpandas._libs.tslib.array_to_datetime\u001b[0;34m()\u001b[0m\n",
      "File \u001b[0;32m/opt/homebrew/Caskroom/miniforge/base/envs/dojo-env/lib/python3.9/site-packages/pandas/_libs/tslib.pyx:649\u001b[0m, in \u001b[0;36mpandas._libs.tslib.array_to_datetime\u001b[0;34m()\u001b[0m\n",
      "File \u001b[0;32m/opt/homebrew/Caskroom/miniforge/base/envs/dojo-env/lib/python3.9/site-packages/pandas/_libs/tslibs/np_datetime.pyx:212\u001b[0m, in \u001b[0;36mpandas._libs.tslibs.np_datetime.check_dts_bounds\u001b[0;34m()\u001b[0m\n",
      "\u001b[0;31mOutOfBoundsDatetime\u001b[0m: Out of bounds nanosecond timestamp: 1202-05-22 10:56:02 present at position 522867"
     ]
    }
   ],
   "source": [
    "# This will give an error\n",
    "pd.to_datetime(demo['CrimeDateTime'])"
   ]
  },
  {
   "cell_type": "markdown",
   "id": "75125098",
   "metadata": {},
   "source": [
    "Error!\n",
    "\n",
    "(We are not displaying the whole huge error message here to save space)\n",
    "\n",
    "However, here is a way to try something and get a little insight into what is causing the problem:"
   ]
  },
  {
   "cell_type": "code",
   "execution_count": 8,
   "id": "87213373",
   "metadata": {},
   "outputs": [
    {
     "name": "stdout",
     "output_type": "stream",
     "text": [
      "Out of bounds nanosecond timestamp: 1202-05-22 10:56:02 present at position 522867\n"
     ]
    }
   ],
   "source": [
    "try:\n",
    "        display(pd.to_datetime(demo['CrimeDateTime']))\n",
    "except Exception as e:\n",
    "        print(e)"
   ]
  },
  {
   "attachments": {
    "image.png": {
     "image/png": "[encoded data removed]"
    }
   },
   "cell_type": "markdown",
   "id": "624a8a28",
   "metadata": {},
   "source": [
    "Sometimes there may be some \"bad\" values that are not compatible with the other dates in the column.\n",
    "In this case, we can leverage the \"errors\" argument of pd.to_datetime.\n",
    "According to to the docstring for pd.to_datetime:\n",
    "![image.png](attachment:image.png)\n",
    "We can see that if we use errors='coerce', it will replace incompatible values will NaT (Not a Time)."
   ]
  },
  {
   "cell_type": "code",
   "execution_count": 9,
   "id": "a7e288d1",
   "metadata": {},
   "outputs": [
    {
     "data": {
      "text/plain": [
       "1"
      ]
     },
     "execution_count": 9,
     "metadata": {},
     "output_type": "execute_result"
    }
   ],
   "source": [
    "demo['CrimeDateTime'] = pd.to_datetime(demo['CrimeDateTime'], errors='coerce')\n",
    "demo['CrimeDateTime'].isna().sum()"
   ]
  },
  {
   "cell_type": "markdown",
   "id": "60ab600a",
   "metadata": {},
   "source": [
    "Make sure to drop or impute any null values for time. In this case we will just drop the one value."
   ]
  },
  {
   "cell_type": "code",
   "execution_count": 10,
   "id": "eea6b335",
   "metadata": {},
   "outputs": [
    {
     "data": {
      "text/html": [
       "<div>\n",
       "<style scoped>\n",
       "    .dataframe tbody tr th:only-of-type {\n",
       "        vertical-align: middle;\n",
       "    }\n",
       "\n",
       "    .dataframe tbody tr th {\n",
       "        vertical-align: top;\n",
       "    }\n",
       "\n",
       "    .dataframe thead th {\n",
       "        text-align: right;\n",
       "    }\n",
       "</style>\n",
       "<table border=\"1\" class=\"dataframe\">\n",
       "  <thead>\n",
       "    <tr style=\"text-align: right;\">\n",
       "      <th></th>\n",
       "      <th>CrimeDateTime</th>\n",
       "      <th>Description</th>\n",
       "      <th>District</th>\n",
       "      <th>Latitude</th>\n",
       "      <th>Longitude</th>\n",
       "    </tr>\n",
       "  </thead>\n",
       "  <tbody>\n",
       "    <tr>\n",
       "      <th>0</th>\n",
       "      <td>2022-07-09 09:30:00+00:00</td>\n",
       "      <td>ROBBERY - RESIDENCE</td>\n",
       "      <td>NORTHEAST</td>\n",
       "      <td>39.3223</td>\n",
       "      <td>-76.5467</td>\n",
       "    </tr>\n",
       "    <tr>\n",
       "      <th>1</th>\n",
       "      <td>2022-07-09 16:00:00+00:00</td>\n",
       "      <td>COMMON ASSAULT</td>\n",
       "      <td>SOUTHERN</td>\n",
       "      <td>39.2821</td>\n",
       "      <td>-76.6355</td>\n",
       "    </tr>\n",
       "    <tr>\n",
       "      <th>2</th>\n",
       "      <td>2022-07-09 00:34:28+00:00</td>\n",
       "      <td>SHOOTING</td>\n",
       "      <td>SOUTHWEST</td>\n",
       "      <td>39.2884</td>\n",
       "      <td>-76.6569</td>\n",
       "    </tr>\n",
       "    <tr>\n",
       "      <th>3</th>\n",
       "      <td>2022-07-09 00:34:28+00:00</td>\n",
       "      <td>SHOOTING</td>\n",
       "      <td>SOUTHWEST</td>\n",
       "      <td>39.2884</td>\n",
       "      <td>-76.6569</td>\n",
       "    </tr>\n",
       "    <tr>\n",
       "      <th>4</th>\n",
       "      <td>2022-07-09 18:00:00+00:00</td>\n",
       "      <td>COMMON ASSAULT</td>\n",
       "      <td>NORTHEAST</td>\n",
       "      <td>39.3188</td>\n",
       "      <td>-76.5872</td>\n",
       "    </tr>\n",
       "  </tbody>\n",
       "</table>\n",
       "</div>"
      ],
      "text/plain": [
       "              CrimeDateTime          Description   District  Latitude  \\\n",
       "0 2022-07-09 09:30:00+00:00  ROBBERY - RESIDENCE  NORTHEAST   39.3223   \n",
       "1 2022-07-09 16:00:00+00:00       COMMON ASSAULT   SOUTHERN   39.2821   \n",
       "2 2022-07-09 00:34:28+00:00             SHOOTING  SOUTHWEST   39.2884   \n",
       "3 2022-07-09 00:34:28+00:00             SHOOTING  SOUTHWEST   39.2884   \n",
       "4 2022-07-09 18:00:00+00:00       COMMON ASSAULT  NORTHEAST   39.3188   \n",
       "\n",
       "   Longitude  \n",
       "0   -76.5467  \n",
       "1   -76.6355  \n",
       "2   -76.6569  \n",
       "3   -76.6569  \n",
       "4   -76.5872  "
      ]
     },
     "execution_count": 10,
     "metadata": {},
     "output_type": "execute_result"
    }
   ],
   "source": [
    "demo = demo.dropna(subset=['CrimeDateTime'])\n",
    "demo.head()"
   ]
  },
  {
   "cell_type": "markdown",
   "id": "f7654fef",
   "metadata": {},
   "source": [
    "Now that we have dropped the data point that was causing our error, we can try again:\n",
    "\n"
   ]
  },
  {
   "cell_type": "code",
   "execution_count": 11,
   "id": "94d41825",
   "metadata": {},
   "outputs": [
    {
     "data": {
      "text/plain": [
       "0        2022-07-09 09:30:00+00:00\n",
       "1        2022-07-09 16:00:00+00:00\n",
       "2        2022-07-09 00:34:28+00:00\n",
       "3        2022-07-09 00:34:28+00:00\n",
       "4        2022-07-09 18:00:00+00:00\n",
       "                    ...           \n",
       "527812   2013-07-31 17:45:00+00:00\n",
       "527813   2013-07-31 14:15:00+00:00\n",
       "527814   2013-07-31 21:00:00+00:00\n",
       "527815   2013-07-31 17:00:00+00:00\n",
       "527816   2013-07-31 11:40:00+00:00\n",
       "Name: CrimeDateTime, Length: 527816, dtype: datetime64[ns, UTC]"
      ]
     },
     "execution_count": 11,
     "metadata": {},
     "output_type": "execute_result"
    }
   ],
   "source": [
    "pd.to_datetime(demo['CrimeDateTime'])"
   ]
  },
  {
   "cell_type": "markdown",
   "id": "3efbf3f9",
   "metadata": {},
   "source": [
    "As you can see, now we were able to convert our feature to a Pandas datetime.\n",
    "\n"
   ]
  },
  {
   "cell_type": "markdown",
   "id": "e8085b69",
   "metadata": {},
   "source": [
    "## Summary\n",
    "While Pandas often is able to convert a feature to datetime without issues, this lesson explored a few solutions if you run into issues. First, if you encounter a unique format in your original dataset, you can \"help\" Pandas figure it out by including the format as an argument when converting it to datetime. If you receive an error due to one or a few data points, you can convert the error to a NaT value and drop it. As always, be sure to check your output along the way to ensure you are getting the results you expect."
   ]
  },
  {
   "cell_type": "code",
   "execution_count": null,
   "id": "9d22c10b",
   "metadata": {},
   "outputs": [],
   "source": []
  }
 ],
 "metadata": {
  "kernelspec": {
   "display_name": "Python (dojo-env)",
   "language": "python",
   "name": "dojo-env"
  },
  "language_info": {
   "codemirror_mode": {
    "name": "ipython",
    "version": 3
   },
   "file_extension": ".py",
   "mimetype": "text/x-python",
   "name": "python",
   "nbconvert_exporter": "python",
   "pygments_lexer": "ipython3",
   "version": "3.9.15"
  },
  "toc": {
   "base_numbering": 1,
   "nav_menu": {},
   "number_sections": false,
   "sideBar": true,
   "skip_h1_title": false,
   "title_cell": "Table of Contents",
   "title_sidebar": "Contents",
   "toc_cell": false,
   "toc_position": {},
   "toc_section_display": true,
   "toc_window_display": false
  }
 },
 "nbformat": 4,
 "nbformat_minor": 5
}
